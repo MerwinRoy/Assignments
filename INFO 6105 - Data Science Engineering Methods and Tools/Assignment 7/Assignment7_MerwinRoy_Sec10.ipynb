{
 "cells": [
  {
   "cell_type": "markdown",
   "id": "c88b3535",
   "metadata": {},
   "source": [
    "# Assignment 7 - Merwin Roy"
   ]
  },
  {
   "cell_type": "markdown",
   "id": "518a3238",
   "metadata": {},
   "source": [
    "## 1. How to model throwing a die with data science? Is that a perfectly random event, or not? What is the histogram that matches the experiment? Build a model (i.e. its histogram)"
   ]
  },
  {
   "cell_type": "markdown",
   "id": "325b7851",
   "metadata": {},
   "source": [
    "a list is created named 'random_die_event_list' that stores result values of random number generated from 1-6 denoting the faces of a die, and this step is iterated 1000 times or 'size' which denotes the number of trials (number of times a die is thrown).\n",
    "\n",
    "Once the results are appended to list, a series of value counts are created using pandas library and the result is presented using histogram plot."
   ]
  },
  {
   "cell_type": "code",
   "execution_count": 10,
   "id": "34fd7e40",
   "metadata": {},
   "outputs": [
    {
     "data": {
      "text/plain": [
       "<AxesSubplot:>"
      ]
     },
     "execution_count": 10,
     "metadata": {},
     "output_type": "execute_result"
    },
    {
     "data": {
      "image/png": "[encoded data removed]",
      "text/plain": [
       "<Figure size 432x288 with 1 Axes>"
      ]
     },
     "metadata": {
      "needs_background": "light"
     },
     "output_type": "display_data"
    }
   ],
   "source": [
    "import pandas as pd\n",
    "import numpy as np\n",
    "import matplotlib.pyplot as plt\n",
    "import random\n",
    "size = 1000\n",
    "random_die_event_list = []\n",
    "for i in range(size):\n",
    "    result = random.randint(1,6)\n",
    "    random_die_event_list.append(result)\n",
    "\n",
    "die_count = pd.Series(random_die_event_list).value_counts()\n",
    "die_count.plot.bar()"
   ]
  },
  {
   "cell_type": "markdown",
   "id": "68980cff",
   "metadata": {},
   "source": [
    "The histogram result suggests that the count for numbers 1-6 of die thrown a 1000 times generated almost the same number. From this we can conclude that throwing a die is a perfectly random event."
   ]
  },
  {
   "cell_type": "markdown",
   "id": "122a374f",
   "metadata": {},
   "source": [
    "## 2. Then build a randomly weighted die (i.e. the histogram of a die that produces numbers with random probabilities)"
   ]
  },
  {
   "cell_type": "markdown",
   "id": "e9c339a4",
   "metadata": {},
   "source": [
    "A list 'D' is created which consists of values 1,2,3,4,5,6 which denote the faces of a die, another list 'p' denotes probabilities of the faces of the die when it is thrown. \n",
    "\n",
    "With the help of np.random.choice, a random numpy array elements is created which is stored in variable 'weighted_die_sample' which stores the probabilities associated with each face of the die for 1000 throws.\n",
    "\n",
    "Then the sample is converted into a series of value counts using pandas library and it is presented using a histogram plot."
   ]
  },
  {
   "cell_type": "code",
   "execution_count": 11,
   "id": "06ea4246",
   "metadata": {},
   "outputs": [
    {
     "data": {
      "text/plain": [
       "<AxesSubplot:>"
      ]
     },
     "execution_count": 11,
     "metadata": {},
     "output_type": "execute_result"
    },
    {
     "data": {
      "image/png": "[encoded data removed]",
      "text/plain": [
       "<Figure size 432x288 with 1 Axes>"
      ]
     },
     "metadata": {
      "needs_background": "light"
     },
     "output_type": "display_data"
    }
   ],
   "source": [
    "D = [1,2,3,4,5,6]\n",
    "weighted_die_sample = np.random.choice(D,1000,p=[0.20,0.30,0.10,0.10,0.20,0.10])\n",
    "weighted_die_count = pd.Series(weighted_die_sample).value_counts()\n",
    "weighted_die_count.plot.bar()"
   ]
  },
  {
   "cell_type": "markdown",
   "id": "33788eef",
   "metadata": {},
   "source": [
    "The historgram result of the weighted die count suggest that in a weighted die that has been thrown a 1000 times, '2' had the most occurrence (300 approx.) followed by '5','1','3','4' and '6'. This is due to the probabilities assigned to each face of the die implemented on list __D => p(1) = 0.20, p(2)=0.30,p(3)=0.10,p(4)=0.10,p(5)=0.20,p(6)=0.10\n",
    "p(3)=0.30__ means that '3' had the highest probability in the weighted die out of all the faces and therefore it had the most occurence."
   ]
  },
  {
   "cell_type": "markdown",
   "id": "20c8648d",
   "metadata": {},
   "source": [
    "## 3. Then build a weighted die that matches a gaussian distribution instead (in other words, a weighted die with a gaussian-looking histogram)."
   ]
  },
  {
   "cell_type": "markdown",
   "id": "5f7c0ce1",
   "metadata": {},
   "source": [
    "A numpy array is generated with a range of 1-6 and it is stored in 'n'.\n",
    "'mean' is assigned a value of 3.5. 'gaussian_dice' are standardized random variables obtained from 'n' and 'mean'. Using matplotlib.pyplot library as 'plt', the plotted representation is displayed.\n",
    "\n",
    "'D2' is a list of values from 1-6 which denotes faces of a die, which is then plotted with the 'gaussian_dice' value with histogram representation.\n",
    "\n",
    "'current_axis' fetches the current axis using gca() from the plot and its y_axis limits are set using set_ylim()."
   ]
  },
  {
   "cell_type": "code",
   "execution_count": 13,
   "id": "577a7614",
   "metadata": {},
   "outputs": [
    {
     "data": {
      "text/plain": [
       "(0.0, 1.0)"
      ]
     },
     "execution_count": 13,
     "metadata": {},
     "output_type": "execute_result"
    },
    {
     "data": {
      "image/png": "[encoded data removed]",
      "text/plain": [
       "<Figure size 432x288 with 1 Axes>"
      ]
     },
     "metadata": {
      "needs_background": "light"
     },
     "output_type": "display_data"
    }
   ],
   "source": [
    "import scipy.stats as stats\n",
    "\n",
    "n = np.arange(1,7)\n",
    "mean = 3.5\n",
    "gaussian_dice = stats.norm.pdf(n,mean)\n",
    "plt.plot(n,gaussian_dice)\n",
    "\n",
    "D2 = [1,2,3,4,5,6]\n",
    "plt.bar(D2,gaussian_dice)\n",
    "\n",
    "#Labels (Title,X-axis,Y-axis)\n",
    "plt.title(\"Gaussian (normal) distribution of dice roll\",fontsize=12)\n",
    "plt.ylabel(\"Probability\",fontsize=12)\n",
    "plt.xlabel(\"Dice Roll outcome\",fontsize=12)\n",
    "\n",
    "#Get current axis\n",
    "current_axis = plt.gca()\n",
    "#Set limits for Y-axis\n",
    "current_axis.set_ylim([0,1])"
   ]
  }
 ],
 "metadata": {
  "kernelspec": {
   "display_name": "Python 3 (ipykernel)",
   "language": "python",
   "name": "python3"
  },
  "language_info": {
   "codemirror_mode": {
    "name": "ipython",
    "version": 3
   },
   "file_extension": ".py",
   "mimetype": "text/x-python",
   "name": "python",
   "nbconvert_exporter": "python",
   "pygments_lexer": "ipython3",
   "version": "3.9.7"
  }
 },
 "nbformat": 4,
 "nbformat_minor": 5
}
