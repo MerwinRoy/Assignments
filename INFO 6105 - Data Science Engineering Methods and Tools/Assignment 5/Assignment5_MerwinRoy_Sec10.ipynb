{
 "cells": [
  {
   "cell_type": "markdown",
   "id": "6c4a1113",
   "metadata": {},
   "source": [
    "# Assignment 5 - Merwin Roy\n",
    "\n",
    "Q) Determine the probability that the sum of a three-dice roll is prime using the is_prime() predicate function."
   ]
  },
  {
   "cell_type": "markdown",
   "id": "b97312fe",
   "metadata": {},
   "source": [
    "Predicate function 'p' is defined which takes event and its space as arguments. An if condition is implemented to check if the event argument is callable or not. If the event is callable, 'such_that' function is implemented which takes event and space as arguments and returns a set of true values. It functions like built-in python function 'filter'. \n",
    "\n",
    "'such_that' function returns a set of true values returned by an event.\n",
    "\n",
    "The 'p' function then returns a fraction or the required probability of an event."
   ]
  },
  {
   "cell_type": "code",
   "execution_count": 1,
   "id": "de4a2ddf",
   "metadata": {},
   "outputs": [],
   "source": [
    "from fractions import Fraction\n",
    "def p(event, space): \n",
    "    if is_predicate(event):\n",
    "        event = such_that(event, space)\n",
    "    return Fraction(len(event & space), len(space))\n",
    "\n",
    "is_predicate = callable\n",
    "\n",
    "def such_that(predicate, collection): \n",
    "    \"Function returns a subset of elements which yields true predicate\"\n",
    "    return {element for element in collection if predicate(element)}"
   ]
  },
  {
   "cell_type": "markdown",
   "id": "b80b2c45",
   "metadata": {},
   "source": [
    "'D' is a set of values in a die from 1 to 6. 'diceRoll' is a set of values that can be obtained from three-dice roll (d1,d2,d3).\n",
    "'prime_sum' function is defined which calculates if the sum of a three-dice roll is prime or not. It makes use of the is_prime() predicate function.\n",
    "\n",
    "'is_prime()' predicate function takes total number of outcomes of an event as the argument and returns true if it is prime, else false.\n",
    "\n",
    "'p(prime_sum,diceRoll)' function is then called to find the probability of the sum of a three-dice roll to be prime."
   ]
  },
  {
   "cell_type": "code",
   "execution_count": 2,
   "id": "d1847059",
   "metadata": {},
   "outputs": [
    {
     "data": {
      "text/plain": [
       "Fraction(73, 216)"
      ]
     },
     "execution_count": 2,
     "metadata": {},
     "output_type": "execute_result"
    }
   ],
   "source": [
    "D = {1,2,3,4,5,6}\n",
    "diceRoll = {(d1,d2,d3) for d1 in D for d2 in D for d3 in D}\n",
    "def prime_sum(outcome): \n",
    "    return is_prime(sum(outcome))\n",
    "\n",
    "def is_prime(total): \n",
    "    return total > 1 and not any(total % i == 0 for i in range(2, total))\n",
    "\n",
    "p(prime_sum, diceRoll)"
   ]
  }
 ],
 "metadata": {
  "kernelspec": {
   "display_name": "Python 3 (ipykernel)",
   "language": "python",
   "name": "python3"
  },
  "language_info": {
   "codemirror_mode": {
    "name": "ipython",
    "version": 3
   },
   "file_extension": ".py",
   "mimetype": "text/x-python",
   "name": "python",
   "nbconvert_exporter": "python",
   "pygments_lexer": "ipython3",
   "version": "3.9.7"
  }
 },
 "nbformat": 4,
 "nbformat_minor": 5
}
