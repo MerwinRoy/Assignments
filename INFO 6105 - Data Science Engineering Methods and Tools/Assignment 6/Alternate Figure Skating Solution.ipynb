{
 "cells": [
  {
   "cell_type": "code",
   "execution_count": 4,
   "id": "c5fde6c8",
   "metadata": {},
   "outputs": [],
   "source": [
    "def Uniform(outcomes): \n",
    "    return ProbDist({event: 1 for event in outcomes})\n",
    "def joint(A, B, sep=' '):\n",
    "    \"\"\"The joint distribution of two independent probability distributions.Result is all entries of the form {a+sep+b: P(a)*P(b)}\"\"\"\n",
    "    return ProbDist({a + sep + b: A[a] * B[b] for a in A for b in B})"
   ]
  },
  {
   "cell_type": "code",
   "execution_count": 5,
   "id": "be11a166",
   "metadata": {},
   "outputs": [],
   "source": [
    "class ProbDist(dict): #creating a dictionary in a class\n",
    "    \"\"\"A Probability Distribution; an {outcome: probability} mapping.\"\"\"\n",
    "    def __init__(self, mapping=(), **kwargs): # defining a constructor--class inherits the dictionary\n",
    "        self.update(mapping, **kwargs)\n",
    "        # Make probabilities sum to 1.0; assert no negative probabilities\n",
    "        total = sum(self.values()) # Take total of all values in the dictionary \n",
    "        for outcome in self:\n",
    "            self[outcome] = self[outcome] / total # for every possible outcome in the dictionary divide the value by the total\n",
    "            assert self[outcome] >= 0"
   ]
  },
  {
   "cell_type": "code",
   "execution_count": 6,
   "id": "2fec212b",
   "metadata": {},
   "outputs": [
    {
     "data": {
      "text/plain": [
       "{'NC': 0.1908548707753479,\n",
       " 'JB': 0.17362491716368456,\n",
       " 'MK': 0.1756129887342611,\n",
       " 'ES': 0.1663353214049039,\n",
       " 'BJ': 0.16037110669317428,\n",
       " 'YC': 0.13320079522862824}"
      ]
     },
     "execution_count": 6,
     "metadata": {},
     "output_type": "execute_result"
    }
   ],
   "source": [
    "MFS2 = ProbDist(NC = 288,JB = 262,MK = 265,ES = 251,BJ = 242,YC = 201)\n",
    "MFS2"
   ]
  },
  {
   "cell_type": "code",
   "execution_count": 8,
   "id": "cad62e0d",
   "metadata": {},
   "outputs": [
    {
     "data": {
      "text/plain": [
       "{'KV': 0.21129032258064517,\n",
       " 'AS': 0.18951612903225806,\n",
       " 'AL': 0.1685483870967742,\n",
       " 'IL': 0.16532258064516128,\n",
       " 'YZ': 0.13790322580645162,\n",
       " 'SA': 0.12741935483870967}"
      ]
     },
     "execution_count": 8,
     "metadata": {},
     "output_type": "execute_result"
    }
   ],
   "source": [
    "WFS2 = ProbDist(KV = 262,AS = 235,AL = 209,IL = 205,YZ = 171,SA = 158)\n",
    "WFS2"
   ]
  },
  {
   "cell_type": "code",
   "execution_count": 13,
   "id": "527c39cf",
   "metadata": {},
   "outputs": [],
   "source": [
    "from fractions import Fraction \n",
    "def p(event, space):\n",
    "    \"\"\"The probability of an event, given a sample space of outcomes.event: a collection of outcomes, or a predicate that is true of outcomes in the event.space: a set of outcomes or a probability distribution of {outcome: frequency} pairs.\"\"\"\n",
    "    if is_predicate(event):\n",
    "        event = such_that(event, space)\n",
    "        if isinstance(space, ProbDist):\n",
    "            return sum(space[o] for o in space if o in event)\n",
    "        else:\n",
    "            return Fraction(len(event & space), len(space))"
   ]
  },
  {
   "cell_type": "code",
   "execution_count": 14,
   "id": "14682a02",
   "metadata": {},
   "outputs": [],
   "source": [
    "is_predicate = callable\n",
    "def such_that(predicate, space):\n",
    "    \"\"\"The outcomes in the sample pace for which the predicate is true.If space is a set, return a subset {outcome,...} with outcomes where predicate(element) is true;if space is a ProbDist, return a ProbDist {outcome: frequency,...} with outcomes where predicate(element) is true.\"\"\"\n",
    "    if isinstance(space, ProbDist):\n",
    "        return ProbDist({o:space[o] for o in space if predicate(o)})\n",
    "    else:\n",
    "        return {o for o in space if predicate(o)}"
   ]
  },
  {
   "cell_type": "code",
   "execution_count": 16,
   "id": "fdeafd5f",
   "metadata": {},
   "outputs": [
    {
     "data": {
      "text/plain": [
       "{'NCu': 0.09542743538767395,\n",
       " 'NCr': 0.09542743538767395,\n",
       " 'JBu': 0.08681245858184228,\n",
       " 'JBr': 0.08681245858184228,\n",
       " 'MKu': 0.08780649436713055,\n",
       " 'MKr': 0.08780649436713055,\n",
       " 'ESu': 0.08316766070245195,\n",
       " 'ESr': 0.08316766070245195,\n",
       " 'BJu': 0.08018555334658714,\n",
       " 'BJr': 0.08018555334658714,\n",
       " 'YCu': 0.06660039761431412,\n",
       " 'YCr': 0.06660039761431412}"
      ]
     },
     "execution_count": 16,
     "metadata": {},
     "output_type": "execute_result"
    }
   ],
   "source": [
    "# probability of winning men's gold on specific hockey game results\n",
    "MFS2ur = joint(MFS2, Uniform('ur'), '') #care about the weatherMFS2ur\n",
    "MFS2ur"
   ]
  },
  {
   "cell_type": "code",
   "execution_count": 17,
   "id": "580e8bb1",
   "metadata": {},
   "outputs": [
    {
     "data": {
      "text/plain": [
       "{'KVu': 0.10564516129032259,\n",
       " 'KVr': 0.10564516129032259,\n",
       " 'ASu': 0.09475806451612903,\n",
       " 'ASr': 0.09475806451612903,\n",
       " 'ALu': 0.0842741935483871,\n",
       " 'ALr': 0.0842741935483871,\n",
       " 'ILu': 0.08266129032258064,\n",
       " 'ILr': 0.08266129032258064,\n",
       " 'YZu': 0.06895161290322581,\n",
       " 'YZr': 0.06895161290322581,\n",
       " 'SAu': 0.06370967741935483,\n",
       " 'SAr': 0.06370967741935483}"
      ]
     },
     "execution_count": 17,
     "metadata": {},
     "output_type": "execute_result"
    }
   ],
   "source": [
    "# probability of winning women's gold on specific hockey game results\n",
    "WFS2ur = joint(WFS2, Uniform('ur'), '') #care about the weatherWFS2ur\n",
    "WFS2ur"
   ]
  },
  {
   "cell_type": "code",
   "execution_count": 18,
   "id": "7d95103e",
   "metadata": {},
   "outputs": [
    {
     "data": {
      "text/plain": [
       "144"
      ]
     },
     "execution_count": 18,
     "metadata": {},
     "output_type": "execute_result"
    }
   ],
   "source": [
    "# probability of winning two golds on specific hockey game results\n",
    "MWFS2ur = joint(MFS2ur, WFS2ur)\n",
    "len(MWFS2ur)"
   ]
  },
  {
   "cell_type": "code",
   "execution_count": 21,
   "id": "36a5a6bb",
   "metadata": {},
   "outputs": [
    {
     "data": {
      "text/plain": [
       "['NCr ALu',\n",
       " 'MKr ASu',\n",
       " 'BJu KVu',\n",
       " 'ESu KVu',\n",
       " 'BJr KVu',\n",
       " 'ESr SAu',\n",
       " 'ESr ALu',\n",
       " 'JBu SAr',\n",
       " 'JBu SAu',\n",
       " 'BJu ASu']"
      ]
     },
     "execution_count": 21,
     "metadata": {},
     "output_type": "execute_result"
    }
   ],
   "source": [
    "import random\n",
    "random.sample(list(MWFS2ur), 10)"
   ]
  },
  {
   "cell_type": "code",
   "execution_count": 22,
   "id": "4d0366cd",
   "metadata": {},
   "outputs": [
    {
     "name": "stdout",
     "output_type": "stream",
     "text": [
      "['BJr', 'BJu', 'ESr', 'ESu', 'JBr', 'JBu', 'MKr', 'MKu', 'NCr', 'NCu', 'YCr', 'YCu']\n"
     ]
    }
   ],
   "source": [
    "def mens_event(s): \n",
    "    return s[:len(s)//2]\n",
    "print(sorted(set(map(mens_event, MWFS2ur))))"
   ]
  },
  {
   "cell_type": "code",
   "execution_count": 23,
   "id": "095bce6b",
   "metadata": {},
   "outputs": [
    {
     "name": "stdout",
     "output_type": "stream",
     "text": [
      "['NCu KVu', 'NCu KVr', 'NCu ASu', 'NCu ASr', 'NCu ALu', 'NCu ALr', 'NCu ILu', 'NCu ILr', 'NCu YZu', 'NCu YZr', 'NCu SAu', 'NCu SAr', 'NCr KVu', 'NCr KVr', 'NCr ASu', 'NCr ASr', 'NCr ALu', 'NCr ALr', 'NCr ILu', 'NCr ILr', 'NCr YZu', 'NCr YZr', 'NCr SAu', 'NCr SAr', 'JBu KVu', 'JBu KVr', 'JBu ASu', 'JBu ASr', 'JBu ALu', 'JBu ALr', 'JBu ILu', 'JBu ILr', 'JBu YZu', 'JBu YZr', 'JBu SAu', 'JBu SAr', 'JBr KVu', 'JBr KVr', 'JBr ASu', 'JBr ASr', 'JBr ALu', 'JBr ALr', 'JBr ILu', 'JBr ILr', 'JBr YZu', 'JBr YZr', 'JBr SAu', 'JBr SAr', 'MKu KVu', 'MKu KVr', 'MKu ASu', 'MKu ASr', 'MKu ALu', 'MKu ALr', 'MKu ILu', 'MKu ILr', 'MKu YZu', 'MKu YZr', 'MKu SAu', 'MKu SAr', 'MKr KVu', 'MKr KVr', 'MKr ASu', 'MKr ASr', 'MKr ALu', 'MKr ALr', 'MKr ILu', 'MKr ILr', 'MKr YZu', 'MKr YZr', 'MKr SAu', 'MKr SAr', 'ESu KVu', 'ESu KVr', 'ESu ASu', 'ESu ASr', 'ESu ALu', 'ESu ALr', 'ESu ILu', 'ESu ILr', 'ESu YZu', 'ESu YZr', 'ESu SAu', 'ESu SAr', 'ESr KVu', 'ESr KVr', 'ESr ASu', 'ESr ASr', 'ESr ALu', 'ESr ALr', 'ESr ILu', 'ESr ILr', 'ESr YZu', 'ESr YZr', 'ESr SAu', 'ESr SAr', 'BJu KVu', 'BJu KVr', 'BJu ASu', 'BJu ASr', 'BJu ALu', 'BJu ALr', 'BJu ILu', 'BJu ILr', 'BJu YZu', 'BJu YZr', 'BJu SAu', 'BJu SAr', 'BJr KVu', 'BJr KVr', 'BJr ASu', 'BJr ASr', 'BJr ALu', 'BJr ALr', 'BJr ILu', 'BJr ILr', 'BJr YZu', 'BJr YZr', 'BJr SAu', 'BJr SAr', 'YCu KVu', 'YCu KVr', 'YCu ASu', 'YCu ASr', 'YCu ALu', 'YCu ALr', 'YCu ILu', 'YCu ILr', 'YCu YZu', 'YCu YZr', 'YCu SAu', 'YCu SAr', 'YCr KVu', 'YCr KVr', 'YCr ASu', 'YCr ASr', 'YCr ALu', 'YCr ALr', 'YCr ILu', 'YCr ILr', 'YCr YZu', 'YCr YZr', 'YCr SAu', 'YCr SAr']\n"
     ]
    }
   ],
   "source": [
    "print(list(outcome for outcome in MWFS2ur))"
   ]
  },
  {
   "cell_type": "code",
   "execution_count": 24,
   "id": "6413fadd",
   "metadata": {},
   "outputs": [
    {
     "data": {
      "text/plain": [
       "['NCu ALr',\n",
       " 'NCu ALu',\n",
       " 'NCu ASr',\n",
       " 'NCu ASu',\n",
       " 'NCu ILr',\n",
       " 'NCu ILu',\n",
       " 'NCu KVr',\n",
       " 'NCu KVu',\n",
       " 'NCu SAr',\n",
       " 'NCu SAu',\n",
       " 'NCu YZr',\n",
       " 'NCu YZu']"
      ]
     },
     "execution_count": 24,
     "metadata": {},
     "output_type": "execute_result"
    }
   ],
   "source": [
    "sorted(outcome for outcome in MWFS2ur if outcome.startswith('NCu'))"
   ]
  },
  {
   "cell_type": "code",
   "execution_count": 25,
   "id": "829636e9",
   "metadata": {},
   "outputs": [
    {
     "data": {
      "text/plain": [
       "'NCu ALr|NCu ALu|NCu ASr|NCu ASu|NCu ILr|NCu ILu|NCu KVr|NCu KVu|NCu SAr|NCu SAu|NCu YZr|NCu YZu'"
      ]
     },
     "execution_count": 25,
     "metadata": {},
     "output_type": "execute_result"
    }
   ],
   "source": [
    "'|'.join(sorted(outcome for outcome in MWFS2ur if outcome.startswith('NCu')))"
   ]
  },
  {
   "cell_type": "code",
   "execution_count": 26,
   "id": "57410613",
   "metadata": {},
   "outputs": [
    {
     "name": "stdout",
     "output_type": "stream",
     "text": [
      "BJr ALr|BJr ALu|BJr ASr|BJr ASu|BJr ILr|BJr ILu|BJr KVr|BJr KVu|BJr SAr|BJr SAu|BJr YZr|BJr YZu\n",
      "BJu ALr|BJu ALu|BJu ASr|BJu ASu|BJu ILr|BJu ILu|BJu KVr|BJu KVu|BJu SAr|BJu SAu|BJu YZr|BJu YZu\n",
      "ESr ALr|ESr ALu|ESr ASr|ESr ASu|ESr ILr|ESr ILu|ESr KVr|ESr KVu|ESr SAr|ESr SAu|ESr YZr|ESr YZu\n",
      "ESu ALr|ESu ALu|ESu ASr|ESu ASu|ESu ILr|ESu ILu|ESu KVr|ESu KVu|ESu SAr|ESu SAu|ESu YZr|ESu YZu\n",
      "JBr ALr|JBr ALu|JBr ASr|JBr ASu|JBr ILr|JBr ILu|JBr KVr|JBr KVu|JBr SAr|JBr SAu|JBr YZr|JBr YZu\n",
      "JBu ALr|JBu ALu|JBu ASr|JBu ASu|JBu ILr|JBu ILu|JBu KVr|JBu KVu|JBu SAr|JBu SAu|JBu YZr|JBu YZu\n",
      "MKr ALr|MKr ALu|MKr ASr|MKr ASu|MKr ILr|MKr ILu|MKr KVr|MKr KVu|MKr SAr|MKr SAu|MKr YZr|MKr YZu\n",
      "MKu ALr|MKu ALu|MKu ASr|MKu ASu|MKu ILr|MKu ILu|MKu KVr|MKu KVu|MKu SAr|MKu SAu|MKu YZr|MKu YZu\n",
      "NCr ALr|NCr ALu|NCr ASr|NCr ASu|NCr ILr|NCr ILu|NCr KVr|NCr KVu|NCr SAr|NCr SAu|NCr YZr|NCr YZu\n",
      "NCu ALr|NCu ALu|NCu ASr|NCu ASu|NCu ILr|NCu ILu|NCu KVr|NCu KVu|NCu SAr|NCu SAu|NCu YZr|NCu YZu\n",
      "YCr ALr|YCr ALu|YCr ASr|YCr ASu|YCr ILr|YCr ILu|YCr KVr|YCr KVu|YCr SAr|YCr SAu|YCr YZr|YCr YZu\n",
      "YCu ALr|YCu ALu|YCu ASr|YCu ASu|YCu ILr|YCu ILu|YCu KVr|YCu KVu|YCu SAr|YCu SAu|YCu YZr|YCu YZu\n"
     ]
    }
   ],
   "source": [
    "mens = sorted(set(map(mens_event, MWFS2ur)))\n",
    "print('\\n'.join('|'.join(sorted(outcome for outcome in MWFS2ur if outcome.startswith(f))) for f in mens))"
   ]
  },
  {
   "cell_type": "code",
   "execution_count": 27,
   "id": "5c3a1a87",
   "metadata": {},
   "outputs": [
    {
     "data": {
      "text/html": [
       "<table><tr><td style=\"background-color: lightgreen\">100</td></tr></table>"
      ],
      "text/plain": [
       "<IPython.core.display.HTML object>"
      ]
     },
     "execution_count": 27,
     "metadata": {},
     "output_type": "execute_result"
    }
   ],
   "source": [
    "from IPython.display import HTML\n",
    "HTML('<table>' +'<tr>' +'<td style=\"background-color: lightgreen\">100</td>' +'</tr>' +'</table>')"
   ]
  },
  {
   "cell_type": "code",
   "execution_count": 33,
   "id": "8b7ccfc3",
   "metadata": {},
   "outputs": [],
   "source": [
    "from IPython.display import HTML\n",
    "def Pgrid(event, condition, dist):\n",
    "    def first_half(s): \n",
    "        return s[:len(s)//2]\n",
    "    firsts = sorted(set(map(first_half, dist)))\n",
    "    return HTML('<table>' +cat(row(first, event, dist, condition) \n",
    "                               for first in firsts) +'</table>')\n",
    "def row(first, event, dist, condition):\n",
    "    \"Display a row where the first race result is paired with each of the possible second race results.\"\n",
    "    thisrow = sorted(outcome \n",
    "                     for outcome in dist \n",
    "                     if outcome.startswith(first))\n",
    "    return '<tr>' + cat(cell(outcome, event, condition) \n",
    "                        for outcome in thisrow) + '</tr>'\n",
    "def cell(outcome, event, condition):\n",
    "    \"Display outcome in appropriate color.\"\n",
    "    color = ('lightgreen' if event(outcome) and condition(outcome) else\n",
    "             'yellow' if condition(outcome) else\n",
    "             'white')\n",
    "    return '<td style=\"background-color: {}\">{}</td>'.format(color, outcome)\n",
    "cat = ''.join"
   ]
  },
  {
   "cell_type": "code",
   "execution_count": 34,
   "id": "69f1b0ad",
   "metadata": {},
   "outputs": [
    {
     "ename": "NameError",
     "evalue": "name 'two_US_golds_p' is not defined",
     "output_type": "error",
     "traceback": [
      "\u001b[0;31m---------------------------------------------------------------------------\u001b[0m",
      "\u001b[0;31mNameError\u001b[0m                                 Traceback (most recent call last)",
      "\u001b[0;32m/var/folders/42/5gfkxg594_v4r7f_z4d0phz00000gn/T/ipykernel_10615/253937935.py\u001b[0m in \u001b[0;36m<module>\u001b[0;34m\u001b[0m\n\u001b[1;32m      2\u001b[0m \u001b[0;31m# yellow cells: at least one US win with US hockey team of the same sex winning too# green cells: two US wins with US hockey team of the same sex winning too\u001b[0m\u001b[0;34m\u001b[0m\u001b[0;34m\u001b[0m\u001b[0m\n\u001b[1;32m      3\u001b[0m \u001b[0;31m# Note: US men: NC/JB, US women: AL/IL\u001b[0m\u001b[0;34m\u001b[0m\u001b[0;34m\u001b[0m\u001b[0m\n\u001b[0;32m----> 4\u001b[0;31m \u001b[0mPgrid\u001b[0m\u001b[0;34m(\u001b[0m\u001b[0mtwo_US_golds_p\u001b[0m\u001b[0;34m,\u001b[0m \u001b[0mat_least_one_US_gold_with_a_Hockey_gold\u001b[0m\u001b[0;34m,\u001b[0m \u001b[0mMWFS2ur\u001b[0m\u001b[0;34m)\u001b[0m\u001b[0;34m\u001b[0m\u001b[0;34m\u001b[0m\u001b[0m\n\u001b[0m",
      "\u001b[0;31mNameError\u001b[0m: name 'two_US_golds_p' is not defined"
     ]
    }
   ],
   "source": [
    "# Let's plot the all possible outcomes# white cells: no two US wins\n",
    "# yellow cells: at least one US win with US hockey team of the same sex winning too# green cells: two US wins with US hockey team of the same sex winning too\n",
    "# Note: US men: NC/JB, US women: AL/IL\n",
    "Pgrid(two_US_golds_p, at_least_one_US_gold_with_a_Hockey_gold, MWFS2ur)"
   ]
  },
  {
   "cell_type": "code",
   "execution_count": null,
   "id": "2f03e7f1",
   "metadata": {},
   "outputs": [],
   "source": []
  }
 ],
 "metadata": {
  "kernelspec": {
   "display_name": "Python 3 (ipykernel)",
   "language": "python",
   "name": "python3"
  },
  "language_info": {
   "codemirror_mode": {
    "name": "ipython",
    "version": 3
   },
   "file_extension": ".py",
   "mimetype": "text/x-python",
   "name": "python",
   "nbconvert_exporter": "python",
   "pygments_lexer": "ipython3",
   "version": "3.9.7"
  }
 },
 "nbformat": 4,
 "nbformat_minor": 5
}
