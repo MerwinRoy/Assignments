{
 "cells": [
  {
   "cell_type": "markdown",
   "id": "40a20eb7",
   "metadata": {},
   "source": [
    "# Team 4 - Ujjwal Gupta , Merwin Roy"
   ]
  },
  {
   "cell_type": "markdown",
   "id": "6a5e632c",
   "metadata": {},
   "source": [
    "Find a simple one-humped dataset and model it by matching one of the pdfs we learned about today. Find the most likely parameters of your pdf using MOM. Use the model to do a prediction."
   ]
  },
  {
   "cell_type": "code",
   "execution_count": null,
   "id": "b081d559",
   "metadata": {},
   "outputs": [],
   "source": [
    "import pandas as pd"
   ]
  },
  {
   "cell_type": "markdown",
   "id": "063cc81a",
   "metadata": {},
   "source": [
    "Let's consider a weather data set of Seattle for Daily Weather Prediction with precipitation, temp_max, temp_min, wind as column"
   ]
  },
  {
   "cell_type": "code",
   "execution_count": 88,
   "id": "4cc9420f",
   "metadata": {},
   "outputs": [
    {
     "data": {
      "text/html": [
       "<div>\n",
       "<style scoped>\n",
       "    .dataframe tbody tr th:only-of-type {\n",
       "        vertical-align: middle;\n",
       "    }\n",
       "\n",
       "    .dataframe tbody tr th {\n",
       "        vertical-align: top;\n",
       "    }\n",
       "\n",
       "    .dataframe thead th {\n",
       "        text-align: right;\n",
       "    }\n",
       "</style>\n",
       "<table border=\"1\" class=\"dataframe\">\n",
       "  <thead>\n",
       "    <tr style=\"text-align: right;\">\n",
       "      <th></th>\n",
       "      <th>precipitation</th>\n",
       "      <th>temp_max</th>\n",
       "      <th>temp_min</th>\n",
       "      <th>wind</th>\n",
       "    </tr>\n",
       "    <tr>\n",
       "      <th>date</th>\n",
       "      <th></th>\n",
       "      <th></th>\n",
       "      <th></th>\n",
       "      <th></th>\n",
       "    </tr>\n",
       "  </thead>\n",
       "  <tbody>\n",
       "    <tr>\n",
       "      <th>2012-01-01</th>\n",
       "      <td>0.0</td>\n",
       "      <td>12.8</td>\n",
       "      <td>5.0</td>\n",
       "      <td>4.7</td>\n",
       "    </tr>\n",
       "    <tr>\n",
       "      <th>2012-01-02</th>\n",
       "      <td>10.9</td>\n",
       "      <td>10.6</td>\n",
       "      <td>2.8</td>\n",
       "      <td>4.5</td>\n",
       "    </tr>\n",
       "    <tr>\n",
       "      <th>2012-01-03</th>\n",
       "      <td>0.8</td>\n",
       "      <td>11.7</td>\n",
       "      <td>7.2</td>\n",
       "      <td>2.3</td>\n",
       "    </tr>\n",
       "    <tr>\n",
       "      <th>2012-01-04</th>\n",
       "      <td>20.3</td>\n",
       "      <td>12.2</td>\n",
       "      <td>5.6</td>\n",
       "      <td>4.7</td>\n",
       "    </tr>\n",
       "    <tr>\n",
       "      <th>2012-01-05</th>\n",
       "      <td>1.3</td>\n",
       "      <td>8.9</td>\n",
       "      <td>2.8</td>\n",
       "      <td>6.1</td>\n",
       "    </tr>\n",
       "    <tr>\n",
       "      <th>...</th>\n",
       "      <td>...</td>\n",
       "      <td>...</td>\n",
       "      <td>...</td>\n",
       "      <td>...</td>\n",
       "    </tr>\n",
       "    <tr>\n",
       "      <th>2012-04-05</th>\n",
       "      <td>4.6</td>\n",
       "      <td>9.4</td>\n",
       "      <td>2.8</td>\n",
       "      <td>1.8</td>\n",
       "    </tr>\n",
       "    <tr>\n",
       "      <th>2012-04-06</th>\n",
       "      <td>0.3</td>\n",
       "      <td>11.1</td>\n",
       "      <td>3.3</td>\n",
       "      <td>2.6</td>\n",
       "    </tr>\n",
       "    <tr>\n",
       "      <th>2012-04-07</th>\n",
       "      <td>0.0</td>\n",
       "      <td>16.1</td>\n",
       "      <td>1.7</td>\n",
       "      <td>4.3</td>\n",
       "    </tr>\n",
       "    <tr>\n",
       "      <th>2012-04-08</th>\n",
       "      <td>0.0</td>\n",
       "      <td>21.1</td>\n",
       "      <td>7.2</td>\n",
       "      <td>4.1</td>\n",
       "    </tr>\n",
       "    <tr>\n",
       "      <th>2012-04-09</th>\n",
       "      <td>0.0</td>\n",
       "      <td>20.0</td>\n",
       "      <td>6.1</td>\n",
       "      <td>2.1</td>\n",
       "    </tr>\n",
       "  </tbody>\n",
       "</table>\n",
       "<p>100 rows × 4 columns</p>\n",
       "</div>"
      ],
      "text/plain": [
       "            precipitation  temp_max  temp_min  wind\n",
       "date                                               \n",
       "2012-01-01            0.0      12.8       5.0   4.7\n",
       "2012-01-02           10.9      10.6       2.8   4.5\n",
       "2012-01-03            0.8      11.7       7.2   2.3\n",
       "2012-01-04           20.3      12.2       5.6   4.7\n",
       "2012-01-05            1.3       8.9       2.8   6.1\n",
       "...                   ...       ...       ...   ...\n",
       "2012-04-05            4.6       9.4       2.8   1.8\n",
       "2012-04-06            0.3      11.1       3.3   2.6\n",
       "2012-04-07            0.0      16.1       1.7   4.3\n",
       "2012-04-08            0.0      21.1       7.2   4.1\n",
       "2012-04-09            0.0      20.0       6.1   2.1\n",
       "\n",
       "[100 rows x 4 columns]"
      ]
     },
     "execution_count": 88,
     "metadata": {},
     "output_type": "execute_result"
    }
   ],
   "source": [
    "p = pd.read_csv(\"D:/data/seattle.csv\")\n",
    "df=p[['date','precipitation','temp_max','temp_min','wind']]\n",
    "df.set_index('date',inplace=True)\n",
    "df.head(100)"
   ]
  },
  {
   "cell_type": "code",
   "execution_count": 89,
   "id": "a032b0a5",
   "metadata": {},
   "outputs": [],
   "source": [
    "import numpy as np\n",
    "import matplotlib.pyplot as plt\n",
    "%matplotlib inline"
   ]
  },
  {
   "cell_type": "code",
   "execution_count": 90,
   "id": "35b10844",
   "metadata": {},
   "outputs": [
    {
     "data": {
      "image/png": "[encoded data removed]",
      "text/plain": [
       "<Figure size 432x288 with 4 Axes>"
      ]
     },
     "metadata": {
      "needs_background": "light"
     },
     "output_type": "display_data"
    }
   ],
   "source": [
    "_ = df.hist(sharex=True, sharey=True, grid=False)\n",
    "plt.tight_layout()"
   ]
  },
  {
   "cell_type": "markdown",
   "id": "c2eb7fc1",
   "metadata": {},
   "source": [
    "Eye balling the Data shows Gamma distribution will be most sutiable for this data set"
   ]
  },
  {
   "cell_type": "code",
   "execution_count": 91,
   "id": "23fb0419",
   "metadata": {},
   "outputs": [
    {
     "data": {
      "text/plain": [
       "precipitation    False\n",
       "temp_max         False\n",
       "temp_min         False\n",
       "wind             False\n",
       "dtype: bool"
      ]
     },
     "execution_count": 91,
     "metadata": {},
     "output_type": "execute_result"
    }
   ],
   "source": [
    "df.isna().any()"
   ]
  },
  {
   "cell_type": "markdown",
   "id": "dc7e88ae",
   "metadata": {},
   "source": [
    "There is no NULL values in the columns."
   ]
  },
  {
   "cell_type": "markdown",
   "id": "b4e9cef6",
   "metadata": {},
   "source": [
    "Calculating the mean, and variance"
   ]
  },
  {
   "cell_type": "code",
   "execution_count": 110,
   "id": "bed7d45b",
   "metadata": {},
   "outputs": [
    {
     "data": {
      "text/plain": [
       "precipitation     3.029432\n",
       "temp_max         16.439083\n",
       "temp_min          8.234771\n",
       "wind              3.241136\n",
       "dtype: float64"
      ]
     },
     "execution_count": 110,
     "metadata": {},
     "output_type": "execute_result"
    }
   ],
   "source": [
    "precip_mean = df.mean()\n",
    "precip_mean"
   ]
  },
  {
   "cell_type": "code",
   "execution_count": 111,
   "id": "ad78b129",
   "metadata": {},
   "outputs": [
    {
     "data": {
      "text/plain": [
       "precipitation    44.624996\n",
       "temp_max         54.018944\n",
       "temp_min         25.230571\n",
       "wind              2.067341\n",
       "dtype: float64"
      ]
     },
     "execution_count": 111,
     "metadata": {},
     "output_type": "execute_result"
    }
   ],
   "source": [
    "precip_var =df.var()\n",
    "precip_var"
   ]
  },
  {
   "cell_type": "markdown",
   "id": "cbfcc19c",
   "metadata": {},
   "source": [
    "We then use these moments to estimate  𝛼  and  𝛽  for each month:"
   ]
  },
  {
   "cell_type": "code",
   "execution_count": 94,
   "id": "fdf48929",
   "metadata": {},
   "outputs": [],
   "source": [
    "alpha_mom = (precip_mean**2)/(precip_var)\n",
    "beta_mom = (precip_var)/(precip_mean)"
   ]
  },
  {
   "cell_type": "code",
   "execution_count": 95,
   "id": "6380b374",
   "metadata": {},
   "outputs": [
    {
     "data": {
      "text/plain": [
       "precipitation    0.205657\n",
       "temp_max         5.002753\n",
       "temp_min         2.687670\n",
       "wind             5.081389\n",
       "dtype: float64"
      ]
     },
     "execution_count": 95,
     "metadata": {},
     "output_type": "execute_result"
    }
   ],
   "source": [
    "alpha_mom"
   ]
  },
  {
   "cell_type": "code",
   "execution_count": 96,
   "id": "31f786b9",
   "metadata": {},
   "outputs": [
    {
     "data": {
      "text/plain": [
       "precipitation    14.730483\n",
       "temp_max          3.286007\n",
       "temp_min          3.063907\n",
       "wind              0.637844\n",
       "dtype: float64"
      ]
     },
     "execution_count": 96,
     "metadata": {},
     "output_type": "execute_result"
    }
   ],
   "source": [
    "beta_mom"
   ]
  },
  {
   "cell_type": "markdown",
   "id": "fbe0b5cb",
   "metadata": {},
   "source": [
    "Then, use the gamma.pdf function in scipy.stats.distributions to plot the distributions implied by the calculated alphas and betas."
   ]
  },
  {
   "cell_type": "code",
   "execution_count": 107,
   "id": "ab4737bb",
   "metadata": {},
   "outputs": [
    {
     "data": {
      "text/plain": [
       "[<matplotlib.lines.Line2D at 0x1ba0a57ec70>]"
      ]
     },
     "execution_count": 107,
     "metadata": {},
     "output_type": "execute_result"
    },
    {
     "data": {
      "image/png": "[encoded data removed]",
      "text/plain": [
       "<Figure size 432x288 with 1 Axes>"
      ]
     },
     "metadata": {
      "needs_background": "light"
     },
     "output_type": "display_data"
    }
   ],
   "source": [
    "import numpy as np\n",
    "import matplotlib.pyplot as plt\n",
    "%matplotlib inline\n",
    "from scipy.stats.distributions import gamma\n",
    "\n",
    "df.precipitation.hist(density=True, bins=12)\n",
    "plt.plot(np.linspace(0, 10), gamma.pdf(np.linspace(0, 25), alpha_mom[1], beta_mom[1]))"
   ]
  },
  {
   "cell_type": "code",
   "execution_count": 114,
   "id": "37db7b65",
   "metadata": {},
   "outputs": [
    {
     "data": {
      "image/png": "[encoded data removed]",
      "text/plain": [
       "<Figure size 864x576 with 4 Axes>"
      ]
     },
     "metadata": {
      "needs_background": "light"
     },
     "output_type": "display_data"
    }
   ],
   "source": [
    "axs = df.hist(density=True, figsize=(12,8), sharex=True, sharey=True, bins=15, grid=True)\n",
    "\n",
    "for ax in axs.ravel():\n",
    "\n",
    "    # Get month\n",
    "    m = ax.get_title()\n",
    "\n",
    "    # Plot fitted distribution\n",
    "    x = np.linspace(*ax.get_xlim())\n",
    "    ax.plot(x, gamma.pdf(x, alpha_mom[m], beta_mom[m]))\n",
    "\n",
    "    # Annotate with parameter estimates\n",
    "    label = 'alpha = {0:.2f}\\nbeta = {1:.2f}'.format(alpha_mom[m], beta_mom[m])\n",
    "    ax.annotate(label, xy=(10, 0.2))\n",
    "\n",
    "plt.tight_layout()"
   ]
  },
  {
   "cell_type": "code",
   "execution_count": null,
   "id": "558bb159",
   "metadata": {},
   "outputs": [],
   "source": []
  }
 ],
 "metadata": {
  "kernelspec": {
   "display_name": "Python 3 (ipykernel)",
   "language": "python",
   "name": "python3"
  },
  "language_info": {
   "codemirror_mode": {
    "name": "ipython",
    "version": 3
   },
   "file_extension": ".py",
   "mimetype": "text/x-python",
   "name": "python",
   "nbconvert_exporter": "python",
   "pygments_lexer": "ipython3",
   "version": "3.9.7"
  }
 },
 "nbformat": 4,
 "nbformat_minor": 5
}
