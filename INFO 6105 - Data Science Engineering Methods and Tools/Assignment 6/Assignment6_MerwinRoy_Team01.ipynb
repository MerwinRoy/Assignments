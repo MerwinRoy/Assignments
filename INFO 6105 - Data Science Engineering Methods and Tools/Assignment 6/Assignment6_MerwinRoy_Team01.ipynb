{
 "cells": [
  {
   "cell_type": "markdown",
   "id": "a7149f48",
   "metadata": {},
   "source": [
    "# Assignment 6 - Team 01\n",
    "## - Merwin Roy\n",
    "\n",
    "### Question 1 (20 points) Here are the latest skater standings (Links to an external site.) for women, men, pairs, and dance pairs.\n",
    "\n",
    "__Given these standings, what is the Probability Distribution detailing the chances of each one of the following countries: Russia, US, China, Japan, Canada, and Italy to win the Olympics men's event? The women's event?__\n",
    "\n",
    "To do that, you are going to find the two top skaters for the countries above to represent their country's chance at winning the gold. You are going to create a probability distribution for each one of these skaters for the women, and another distribution for the men.\n",
    "\n",
    "Note that Shan Ashley Lin is the other skater for China (together with Zhu Yi), but it may be hard to find her on the standings. You will find her if you click on CN next to Zhu Yi's listing. Also note that the top skaters from the Web site above may not really match with the real skaters competing, but that's ok.\n",
    "\n",
    "__What is the probability for the US to win both the men's and the women's event?__\n",
    "\n",
    "__What is the probability for the US to win at least one of these two events?__"
   ]
  },
  {
   "cell_type": "code",
   "execution_count": 1,
   "id": "7e090155",
   "metadata": {},
   "outputs": [],
   "source": [
    "import os\n",
    "os.getcwd()\n",
    "os.chdir(\"/Users/merwinroy/Desktop/Academics/Sem 2/Data Science Engineering Methods and Tools/Assignments/Assignment6_MerwinRoy_Team01\")"
   ]
  },
  {
   "cell_type": "code",
   "execution_count": 2,
   "id": "e86aee66",
   "metadata": {},
   "outputs": [],
   "source": [
    "class ProbDist(dict): #creating a dictionary in a class\n",
    "    \"\"\"A Probability Distribution; an {outcome: probability} mapping.\"\"\"\n",
    "    def __init__(self, mapping=(), **kwargs): # defining a constructor--class inherits the dictionary\n",
    "        self.update(mapping, **kwargs)\n",
    "        # Make probabilities sum to 1.0; assert no negative probabilities\n",
    "        total = sum(self.values()) # Take total of all values in the dictionary \n",
    "        for outcome in self:\n",
    "            self[outcome] = self[outcome] / total # for every possible outcome in the dictionary divide the value by the total\n",
    "            assert self[outcome] >= 0"
   ]
  },
  {
   "cell_type": "code",
   "execution_count": 3,
   "id": "76995753",
   "metadata": {},
   "outputs": [],
   "source": [
    "def P(event, space): \n",
    "    if is_predicate(event): #transformation\n",
    "        event = such_that(event, space)  #collection    \n",
    "    if isinstance(space, ProbDist):\n",
    "        return sum(space[o] for o in space if o in event) \n",
    "    else:\n",
    "        return Fraction(len(event & space), len(space))\n",
    "\n",
    "is_predicate = callable\n",
    "\n",
    "def such_that(predicate, space): \n",
    "    if isinstance(space, ProbDist):\n",
    "        return ProbDist({o:space[o] for o in space if predicate(o)}) \n",
    "    else:\n",
    "        return {o for o in space if predicate(o)}"
   ]
  },
  {
   "cell_type": "markdown",
   "id": "8d6ecfbb",
   "metadata": {},
   "source": [
    "Using panda's library to read,import and saving html page highlighting results of men's skating event into 'Men_Skating.csv' file"
   ]
  },
  {
   "cell_type": "code",
   "execution_count": 4,
   "id": "98b59c43",
   "metadata": {},
   "outputs": [],
   "source": [
    "import requests\n",
    "import pandas as pd\n",
    "pd.read_html(requests.get(\"https://skatingscores.com/men/\").content)[-1].to_csv(\"Men_Skating.csv\")"
   ]
  },
  {
   "cell_type": "markdown",
   "id": "3c8c1665",
   "metadata": {},
   "source": [
    "Updating the csv file of men's skating result after cleaning the data\n",
    "and printing first 5 results using .head() function"
   ]
  },
  {
   "cell_type": "code",
   "execution_count": 5,
   "id": "0ed72c0f",
   "metadata": {},
   "outputs": [
    {
     "data": {
      "text/html": [
       "<div>\n",
       "<style scoped>\n",
       "    .dataframe tbody tr th:only-of-type {\n",
       "        vertical-align: middle;\n",
       "    }\n",
       "\n",
       "    .dataframe tbody tr th {\n",
       "        vertical-align: top;\n",
       "    }\n",
       "\n",
       "    .dataframe thead th {\n",
       "        text-align: right;\n",
       "    }\n",
       "</style>\n",
       "<table border=\"1\" class=\"dataframe\">\n",
       "  <thead>\n",
       "    <tr style=\"text-align: right;\">\n",
       "      <th></th>\n",
       "      <th>Nat</th>\n",
       "      <th>Skater</th>\n",
       "      <th>JGP</th>\n",
       "      <th>CS</th>\n",
       "      <th>GP</th>\n",
       "      <th>Ch</th>\n",
       "      <th>WD</th>\n",
       "      <th>MeanEventTotal</th>\n",
       "      <th>nmean</th>\n",
       "      <th>MeanEventBV</th>\n",
       "      <th>...</th>\n",
       "      <th>MeanSS</th>\n",
       "      <th>nSS</th>\n",
       "      <th>MeanTR</th>\n",
       "      <th>nTR</th>\n",
       "      <th>MeanPE</th>\n",
       "      <th>nPE</th>\n",
       "      <th>MeanCO</th>\n",
       "      <th>nCO</th>\n",
       "      <th>MeanIN</th>\n",
       "      <th>nIN</th>\n",
       "    </tr>\n",
       "  </thead>\n",
       "  <tbody>\n",
       "    <tr>\n",
       "      <th>0</th>\n",
       "      <td>🇺🇸</td>\n",
       "      <td>Nathan Chen</td>\n",
       "      <td>0</td>\n",
       "      <td>0</td>\n",
       "      <td>2</td>\n",
       "      <td>0</td>\n",
       "      <td>0</td>\n",
       "      <td>288.28</td>\n",
       "      <td>2</td>\n",
       "      <td>132.86</td>\n",
       "      <td>...</td>\n",
       "      <td>9.23</td>\n",
       "      <td>4</td>\n",
       "      <td>8.87</td>\n",
       "      <td>4</td>\n",
       "      <td>9.08</td>\n",
       "      <td>4</td>\n",
       "      <td>9.19</td>\n",
       "      <td>4</td>\n",
       "      <td>9.12</td>\n",
       "      <td>4</td>\n",
       "    </tr>\n",
       "    <tr>\n",
       "      <th>1</th>\n",
       "      <td>🇯🇵</td>\n",
       "      <td>Yuma Kagiyama</td>\n",
       "      <td>0</td>\n",
       "      <td>0</td>\n",
       "      <td>2</td>\n",
       "      <td>0</td>\n",
       "      <td>0</td>\n",
       "      <td>282.22</td>\n",
       "      <td>2</td>\n",
       "      <td>125.28</td>\n",
       "      <td>...</td>\n",
       "      <td>9.04</td>\n",
       "      <td>4</td>\n",
       "      <td>8.66</td>\n",
       "      <td>4</td>\n",
       "      <td>8.81</td>\n",
       "      <td>4</td>\n",
       "      <td>8.97</td>\n",
       "      <td>4</td>\n",
       "      <td>8.88</td>\n",
       "      <td>4</td>\n",
       "    </tr>\n",
       "    <tr>\n",
       "      <th>2</th>\n",
       "      <td>🇯🇵</td>\n",
       "      <td>Shoma Uno</td>\n",
       "      <td>0</td>\n",
       "      <td>0</td>\n",
       "      <td>2</td>\n",
       "      <td>0</td>\n",
       "      <td>0</td>\n",
       "      <td>280.42</td>\n",
       "      <td>2</td>\n",
       "      <td>125.03</td>\n",
       "      <td>...</td>\n",
       "      <td>9.16</td>\n",
       "      <td>4</td>\n",
       "      <td>8.78</td>\n",
       "      <td>4</td>\n",
       "      <td>9.07</td>\n",
       "      <td>4</td>\n",
       "      <td>9.05</td>\n",
       "      <td>4</td>\n",
       "      <td>9.00</td>\n",
       "      <td>4</td>\n",
       "    </tr>\n",
       "    <tr>\n",
       "      <th>3</th>\n",
       "      <td>🇺🇸</td>\n",
       "      <td>Vincent Zhou</td>\n",
       "      <td>0</td>\n",
       "      <td>1</td>\n",
       "      <td>2</td>\n",
       "      <td>0</td>\n",
       "      <td>0</td>\n",
       "      <td>280.16</td>\n",
       "      <td>3</td>\n",
       "      <td>135.84</td>\n",
       "      <td>...</td>\n",
       "      <td>8.62</td>\n",
       "      <td>6</td>\n",
       "      <td>8.50</td>\n",
       "      <td>6</td>\n",
       "      <td>8.71</td>\n",
       "      <td>6</td>\n",
       "      <td>8.71</td>\n",
       "      <td>6</td>\n",
       "      <td>8.74</td>\n",
       "      <td>6</td>\n",
       "    </tr>\n",
       "    <tr>\n",
       "      <th>4</th>\n",
       "      <td>🇷🇺</td>\n",
       "      <td>Mikhail Kolyada</td>\n",
       "      <td>0</td>\n",
       "      <td>1</td>\n",
       "      <td>2</td>\n",
       "      <td>0</td>\n",
       "      <td>0</td>\n",
       "      <td>265.06</td>\n",
       "      <td>3</td>\n",
       "      <td>123.43</td>\n",
       "      <td>...</td>\n",
       "      <td>8.86</td>\n",
       "      <td>6</td>\n",
       "      <td>8.63</td>\n",
       "      <td>6</td>\n",
       "      <td>8.66</td>\n",
       "      <td>6</td>\n",
       "      <td>8.92</td>\n",
       "      <td>6</td>\n",
       "      <td>8.77</td>\n",
       "      <td>6</td>\n",
       "    </tr>\n",
       "  </tbody>\n",
       "</table>\n",
       "<p>5 rows × 33 columns</p>\n",
       "</div>"
      ],
      "text/plain": [
       "  Nat           Skater  JGP  CS  GP  Ch  WD  MeanEventTotal  nmean  \\\n",
       "0  🇺🇸      Nathan Chen    0   0   2   0   0          288.28      2   \n",
       "1  🇯🇵    Yuma Kagiyama    0   0   2   0   0          282.22      2   \n",
       "2  🇯🇵        Shoma Uno    0   0   2   0   0          280.42      2   \n",
       "3  🇺🇸     Vincent Zhou    0   1   2   0   0          280.16      3   \n",
       "4  🇷🇺  Mikhail Kolyada    0   1   2   0   0          265.06      3   \n",
       "\n",
       "   MeanEventBV  ...  MeanSS  nSS  MeanTR  nTR  MeanPE  nPE  MeanCO  nCO  \\\n",
       "0       132.86  ...    9.23    4    8.87    4    9.08    4    9.19    4   \n",
       "1       125.28  ...    9.04    4    8.66    4    8.81    4    8.97    4   \n",
       "2       125.03  ...    9.16    4    8.78    4    9.07    4    9.05    4   \n",
       "3       135.84  ...    8.62    6    8.50    6    8.71    6    8.71    6   \n",
       "4       123.43  ...    8.86    6    8.63    6    8.66    6    8.92    6   \n",
       "\n",
       "   MeanIN  nIN  \n",
       "0    9.12    4  \n",
       "1    8.88    4  \n",
       "2    9.00    4  \n",
       "3    8.74    6  \n",
       "4    8.77    6  \n",
       "\n",
       "[5 rows x 33 columns]"
      ]
     },
     "execution_count": 5,
     "metadata": {},
     "output_type": "execute_result"
    }
   ],
   "source": [
    "df_men = pd.read_csv(\"Men_Skating1.csv\", index_col=None)\n",
    "df_men_update = df_men.iloc[:,1:]\n",
    "df_men_update.head(5)"
   ]
  },
  {
   "cell_type": "markdown",
   "id": "d381868d",
   "metadata": {},
   "source": [
    "Using panda's library to read,import and saving html page highlighting results of women's skating event into 'Women_Skating.csv' file"
   ]
  },
  {
   "cell_type": "code",
   "execution_count": 6,
   "id": "70c657e1",
   "metadata": {},
   "outputs": [],
   "source": [
    "pd.read_html(requests.get(\"https://skatingscores.com/women/\").content)[-1].to_csv(\"Women_Skating.csv\")"
   ]
  },
  {
   "cell_type": "markdown",
   "id": "57922c88",
   "metadata": {},
   "source": [
    "Updating the csv file of women's skating result after cleaning the data\n",
    "and printing first 5 results using .head() function"
   ]
  },
  {
   "cell_type": "code",
   "execution_count": 7,
   "id": "8c623c5e",
   "metadata": {},
   "outputs": [
    {
     "data": {
      "text/html": [
       "<div>\n",
       "<style scoped>\n",
       "    .dataframe tbody tr th:only-of-type {\n",
       "        vertical-align: middle;\n",
       "    }\n",
       "\n",
       "    .dataframe tbody tr th {\n",
       "        vertical-align: top;\n",
       "    }\n",
       "\n",
       "    .dataframe thead th {\n",
       "        text-align: right;\n",
       "    }\n",
       "</style>\n",
       "<table border=\"1\" class=\"dataframe\">\n",
       "  <thead>\n",
       "    <tr style=\"text-align: right;\">\n",
       "      <th></th>\n",
       "      <th>Nat</th>\n",
       "      <th>Skater</th>\n",
       "      <th>JGP</th>\n",
       "      <th>CS</th>\n",
       "      <th>GP</th>\n",
       "      <th>Ch</th>\n",
       "      <th>WD</th>\n",
       "      <th>MeanEventTotal</th>\n",
       "      <th>nmean</th>\n",
       "      <th>MeanEventBV</th>\n",
       "      <th>...</th>\n",
       "      <th>MeanSS</th>\n",
       "      <th>nSS</th>\n",
       "      <th>MeanTR</th>\n",
       "      <th>NTR</th>\n",
       "      <th>MeanPE</th>\n",
       "      <th>nPE</th>\n",
       "      <th>MeanCO</th>\n",
       "      <th>nCO</th>\n",
       "      <th>MeanIN</th>\n",
       "      <th>nIN</th>\n",
       "    </tr>\n",
       "  </thead>\n",
       "  <tbody>\n",
       "    <tr>\n",
       "      <th>0</th>\n",
       "      <td>🇷🇺</td>\n",
       "      <td>Kamila Valieva</td>\n",
       "      <td>0</td>\n",
       "      <td>1</td>\n",
       "      <td>2</td>\n",
       "      <td>1</td>\n",
       "      <td>0</td>\n",
       "      <td>261.52</td>\n",
       "      <td>4</td>\n",
       "      <td>119.54</td>\n",
       "      <td>...</td>\n",
       "      <td>9.28</td>\n",
       "      <td>8</td>\n",
       "      <td>9.09</td>\n",
       "      <td>8</td>\n",
       "      <td>9.32</td>\n",
       "      <td>8</td>\n",
       "      <td>9.34</td>\n",
       "      <td>8</td>\n",
       "      <td>9.36</td>\n",
       "      <td>8</td>\n",
       "    </tr>\n",
       "    <tr>\n",
       "      <th>1</th>\n",
       "      <td>🇷🇺</td>\n",
       "      <td>Anna Shcherbakova</td>\n",
       "      <td>0</td>\n",
       "      <td>0</td>\n",
       "      <td>2</td>\n",
       "      <td>1</td>\n",
       "      <td>0</td>\n",
       "      <td>234.63</td>\n",
       "      <td>3</td>\n",
       "      <td>102.99</td>\n",
       "      <td>...</td>\n",
       "      <td>8.98</td>\n",
       "      <td>6</td>\n",
       "      <td>8.89</td>\n",
       "      <td>6</td>\n",
       "      <td>9.06</td>\n",
       "      <td>6</td>\n",
       "      <td>9.13</td>\n",
       "      <td>6</td>\n",
       "      <td>9.14</td>\n",
       "      <td>6</td>\n",
       "    </tr>\n",
       "    <tr>\n",
       "      <th>2</th>\n",
       "      <td>🇷🇺</td>\n",
       "      <td>Alexandra Trusova</td>\n",
       "      <td>0</td>\n",
       "      <td>0</td>\n",
       "      <td>1</td>\n",
       "      <td>1</td>\n",
       "      <td>0</td>\n",
       "      <td>233.36</td>\n",
       "      <td>2</td>\n",
       "      <td>113.15</td>\n",
       "      <td>...</td>\n",
       "      <td>8.80</td>\n",
       "      <td>4</td>\n",
       "      <td>8.51</td>\n",
       "      <td>4</td>\n",
       "      <td>8.75</td>\n",
       "      <td>4</td>\n",
       "      <td>8.78</td>\n",
       "      <td>4</td>\n",
       "      <td>8.73</td>\n",
       "      <td>4</td>\n",
       "    </tr>\n",
       "    <tr>\n",
       "      <th>3</th>\n",
       "      <td>🇷🇺</td>\n",
       "      <td>Elizaveta Tuktamysheva</td>\n",
       "      <td>0</td>\n",
       "      <td>1</td>\n",
       "      <td>2</td>\n",
       "      <td>0</td>\n",
       "      <td>0</td>\n",
       "      <td>231.80</td>\n",
       "      <td>3</td>\n",
       "      <td>104.62</td>\n",
       "      <td>...</td>\n",
       "      <td>8.76</td>\n",
       "      <td>6</td>\n",
       "      <td>8.54</td>\n",
       "      <td>6</td>\n",
       "      <td>9.13</td>\n",
       "      <td>6</td>\n",
       "      <td>9.00</td>\n",
       "      <td>6</td>\n",
       "      <td>9.19</td>\n",
       "      <td>6</td>\n",
       "    </tr>\n",
       "    <tr>\n",
       "      <th>4</th>\n",
       "      <td>🇷🇺</td>\n",
       "      <td>Sofia Akateva</td>\n",
       "      <td>2</td>\n",
       "      <td>0</td>\n",
       "      <td>0</td>\n",
       "      <td>0</td>\n",
       "      <td>0</td>\n",
       "      <td>229.36</td>\n",
       "      <td>2</td>\n",
       "      <td>117.30</td>\n",
       "      <td>...</td>\n",
       "      <td>7.80</td>\n",
       "      <td>4</td>\n",
       "      <td>7.51</td>\n",
       "      <td>4</td>\n",
       "      <td>7.88</td>\n",
       "      <td>4</td>\n",
       "      <td>7.73</td>\n",
       "      <td>4</td>\n",
       "      <td>7.80</td>\n",
       "      <td>4</td>\n",
       "    </tr>\n",
       "  </tbody>\n",
       "</table>\n",
       "<p>5 rows × 33 columns</p>\n",
       "</div>"
      ],
      "text/plain": [
       "  Nat                  Skater  JGP  CS  GP  Ch  WD  MeanEventTotal  nmean  \\\n",
       "0  🇷🇺          Kamila Valieva    0   1   2   1   0          261.52      4   \n",
       "1  🇷🇺       Anna Shcherbakova    0   0   2   1   0          234.63      3   \n",
       "2  🇷🇺       Alexandra Trusova    0   0   1   1   0          233.36      2   \n",
       "3  🇷🇺  Elizaveta Tuktamysheva    0   1   2   0   0          231.80      3   \n",
       "4  🇷🇺           Sofia Akateva    2   0   0   0   0          229.36      2   \n",
       "\n",
       "   MeanEventBV  ...  MeanSS  nSS  MeanTR  NTR  MeanPE  nPE  MeanCO  nCO  \\\n",
       "0       119.54  ...    9.28    8    9.09    8    9.32    8    9.34    8   \n",
       "1       102.99  ...    8.98    6    8.89    6    9.06    6    9.13    6   \n",
       "2       113.15  ...    8.80    4    8.51    4    8.75    4    8.78    4   \n",
       "3       104.62  ...    8.76    6    8.54    6    9.13    6    9.00    6   \n",
       "4       117.30  ...    7.80    4    7.51    4    7.88    4    7.73    4   \n",
       "\n",
       "   MeanIN  nIN  \n",
       "0    9.36    8  \n",
       "1    9.14    6  \n",
       "2    8.73    4  \n",
       "3    9.19    6  \n",
       "4    7.80    4  \n",
       "\n",
       "[5 rows x 33 columns]"
      ]
     },
     "execution_count": 7,
     "metadata": {},
     "output_type": "execute_result"
    }
   ],
   "source": [
    "df_women = pd.read_csv(\"Women_Skating1.csv\", index_col=None)\n",
    "df_women_update = df_women.iloc[:,1:]\n",
    "df_women_update.head(5)"
   ]
  },
  {
   "cell_type": "markdown",
   "id": "3f93064b",
   "metadata": {},
   "source": [
    "Fetching the top two ranked US men's skaters and storing it into a dataframe 'US_Men_df'"
   ]
  },
  {
   "cell_type": "code",
   "execution_count": 8,
   "id": "c1fc06b7",
   "metadata": {},
   "outputs": [
    {
     "data": {
      "text/html": [
       "<div>\n",
       "<style scoped>\n",
       "    .dataframe tbody tr th:only-of-type {\n",
       "        vertical-align: middle;\n",
       "    }\n",
       "\n",
       "    .dataframe tbody tr th {\n",
       "        vertical-align: top;\n",
       "    }\n",
       "\n",
       "    .dataframe thead th {\n",
       "        text-align: right;\n",
       "    }\n",
       "</style>\n",
       "<table border=\"1\" class=\"dataframe\">\n",
       "  <thead>\n",
       "    <tr style=\"text-align: right;\">\n",
       "      <th></th>\n",
       "      <th>Nat</th>\n",
       "      <th>Skater</th>\n",
       "      <th>JGP</th>\n",
       "      <th>CS</th>\n",
       "      <th>GP</th>\n",
       "      <th>Ch</th>\n",
       "      <th>WD</th>\n",
       "      <th>MeanEventTotal</th>\n",
       "      <th>nmean</th>\n",
       "      <th>MeanEventBV</th>\n",
       "      <th>...</th>\n",
       "      <th>MeanSS</th>\n",
       "      <th>nSS</th>\n",
       "      <th>MeanTR</th>\n",
       "      <th>nTR</th>\n",
       "      <th>MeanPE</th>\n",
       "      <th>nPE</th>\n",
       "      <th>MeanCO</th>\n",
       "      <th>nCO</th>\n",
       "      <th>MeanIN</th>\n",
       "      <th>nIN</th>\n",
       "    </tr>\n",
       "  </thead>\n",
       "  <tbody>\n",
       "    <tr>\n",
       "      <th>0</th>\n",
       "      <td>🇺🇸</td>\n",
       "      <td>Nathan Chen</td>\n",
       "      <td>0</td>\n",
       "      <td>0</td>\n",
       "      <td>2</td>\n",
       "      <td>0</td>\n",
       "      <td>0</td>\n",
       "      <td>288.28</td>\n",
       "      <td>2</td>\n",
       "      <td>132.86</td>\n",
       "      <td>...</td>\n",
       "      <td>9.23</td>\n",
       "      <td>4</td>\n",
       "      <td>8.87</td>\n",
       "      <td>4</td>\n",
       "      <td>9.08</td>\n",
       "      <td>4</td>\n",
       "      <td>9.19</td>\n",
       "      <td>4</td>\n",
       "      <td>9.12</td>\n",
       "      <td>4</td>\n",
       "    </tr>\n",
       "    <tr>\n",
       "      <th>3</th>\n",
       "      <td>🇺🇸</td>\n",
       "      <td>Vincent Zhou</td>\n",
       "      <td>0</td>\n",
       "      <td>1</td>\n",
       "      <td>2</td>\n",
       "      <td>0</td>\n",
       "      <td>0</td>\n",
       "      <td>280.16</td>\n",
       "      <td>3</td>\n",
       "      <td>135.84</td>\n",
       "      <td>...</td>\n",
       "      <td>8.62</td>\n",
       "      <td>6</td>\n",
       "      <td>8.50</td>\n",
       "      <td>6</td>\n",
       "      <td>8.71</td>\n",
       "      <td>6</td>\n",
       "      <td>8.71</td>\n",
       "      <td>6</td>\n",
       "      <td>8.74</td>\n",
       "      <td>6</td>\n",
       "    </tr>\n",
       "  </tbody>\n",
       "</table>\n",
       "<p>2 rows × 33 columns</p>\n",
       "</div>"
      ],
      "text/plain": [
       "  Nat        Skater  JGP  CS  GP  Ch  WD  MeanEventTotal  nmean  MeanEventBV  \\\n",
       "0  🇺🇸   Nathan Chen    0   0   2   0   0          288.28      2       132.86   \n",
       "3  🇺🇸  Vincent Zhou    0   1   2   0   0          280.16      3       135.84   \n",
       "\n",
       "   ...  MeanSS  nSS  MeanTR  nTR  MeanPE  nPE  MeanCO  nCO  MeanIN  nIN  \n",
       "0  ...    9.23    4    8.87    4    9.08    4    9.19    4    9.12    4  \n",
       "3  ...    8.62    6    8.50    6    8.71    6    8.71    6    8.74    6  \n",
       "\n",
       "[2 rows x 33 columns]"
      ]
     },
     "execution_count": 8,
     "metadata": {},
     "output_type": "execute_result"
    }
   ],
   "source": [
    "men_df = df_men_update[df_men_update.apply(lambda x: x[\"Nat\"] == '🇺🇸',axis=1)]\n",
    "US_Men = men_df.nlargest(2,'MeanEventTotal')\n",
    "US_Men_df = pd.DataFrame(US_Men)\n",
    "US_Men_df"
   ]
  },
  {
   "cell_type": "markdown",
   "id": "60d00bd0",
   "metadata": {},
   "source": [
    "Setting the index value of dataframe 'US_Men_df', then fetching the 'MeanEventTotal' score and storing it in 'US_Men_final'"
   ]
  },
  {
   "cell_type": "code",
   "execution_count": 9,
   "id": "0352a57c",
   "metadata": {},
   "outputs": [
    {
     "data": {
      "text/plain": [
       "Skater\n",
       "Nathan Chen     288.28\n",
       "Vincent Zhou    280.16\n",
       "Name: MeanEventTotal, dtype: float64"
      ]
     },
     "execution_count": 9,
     "metadata": {},
     "output_type": "execute_result"
    }
   ],
   "source": [
    "US_Men_df.set_index('Skater',inplace=True)\n",
    "US_Men_final = US_Men_df['MeanEventTotal']\n",
    "US_Men_final"
   ]
  },
  {
   "cell_type": "markdown",
   "id": "35cb2521",
   "metadata": {},
   "source": [
    "Calculating probability distribution for the the two US Men skaters and storing the values in 'US_Men_Dist' variable"
   ]
  },
  {
   "cell_type": "code",
   "execution_count": 10,
   "id": "b5da0ccb",
   "metadata": {},
   "outputs": [
    {
     "data": {
      "text/plain": [
       "{'NC': 0.5071423545141087, 'VZ': 0.4928576454858912}"
      ]
     },
     "execution_count": 10,
     "metadata": {},
     "output_type": "execute_result"
    }
   ],
   "source": [
    "US_Men_Dist = ProbDist(NC = US_Men_final[0], VZ = US_Men_final[1])\n",
    "US_Men_Dist"
   ]
  },
  {
   "cell_type": "markdown",
   "id": "c77e9b38",
   "metadata": {},
   "source": [
    "Final scores of the top two US skaters from the event are added and stored in 'US_MEN_TOTAL'"
   ]
  },
  {
   "cell_type": "code",
   "execution_count": 11,
   "id": "5017283b",
   "metadata": {},
   "outputs": [
    {
     "data": {
      "text/plain": [
       "568.44"
      ]
     },
     "execution_count": 11,
     "metadata": {},
     "output_type": "execute_result"
    }
   ],
   "source": [
    "US_Men_TOTAL = US_Men_final[0]+US_Men_final[1]\n",
    "US_Men_TOTAL"
   ]
  },
  {
   "cell_type": "markdown",
   "id": "ca7b5d21",
   "metadata": {},
   "source": [
    "Fetching the top two ranked Japanese men's skaters and storing it into a dataframe 'Japan_Men_df'"
   ]
  },
  {
   "cell_type": "code",
   "execution_count": 12,
   "id": "c636dc31",
   "metadata": {},
   "outputs": [
    {
     "data": {
      "text/html": [
       "<div>\n",
       "<style scoped>\n",
       "    .dataframe tbody tr th:only-of-type {\n",
       "        vertical-align: middle;\n",
       "    }\n",
       "\n",
       "    .dataframe tbody tr th {\n",
       "        vertical-align: top;\n",
       "    }\n",
       "\n",
       "    .dataframe thead th {\n",
       "        text-align: right;\n",
       "    }\n",
       "</style>\n",
       "<table border=\"1\" class=\"dataframe\">\n",
       "  <thead>\n",
       "    <tr style=\"text-align: right;\">\n",
       "      <th></th>\n",
       "      <th>Nat</th>\n",
       "      <th>Skater</th>\n",
       "      <th>JGP</th>\n",
       "      <th>CS</th>\n",
       "      <th>GP</th>\n",
       "      <th>Ch</th>\n",
       "      <th>WD</th>\n",
       "      <th>MeanEventTotal</th>\n",
       "      <th>nmean</th>\n",
       "      <th>MeanEventBV</th>\n",
       "      <th>...</th>\n",
       "      <th>MeanSS</th>\n",
       "      <th>nSS</th>\n",
       "      <th>MeanTR</th>\n",
       "      <th>nTR</th>\n",
       "      <th>MeanPE</th>\n",
       "      <th>nPE</th>\n",
       "      <th>MeanCO</th>\n",
       "      <th>nCO</th>\n",
       "      <th>MeanIN</th>\n",
       "      <th>nIN</th>\n",
       "    </tr>\n",
       "  </thead>\n",
       "  <tbody>\n",
       "    <tr>\n",
       "      <th>1</th>\n",
       "      <td>🇯🇵</td>\n",
       "      <td>Yuma Kagiyama</td>\n",
       "      <td>0</td>\n",
       "      <td>0</td>\n",
       "      <td>2</td>\n",
       "      <td>0</td>\n",
       "      <td>0</td>\n",
       "      <td>282.22</td>\n",
       "      <td>2</td>\n",
       "      <td>125.28</td>\n",
       "      <td>...</td>\n",
       "      <td>9.04</td>\n",
       "      <td>4</td>\n",
       "      <td>8.66</td>\n",
       "      <td>4</td>\n",
       "      <td>8.81</td>\n",
       "      <td>4</td>\n",
       "      <td>8.97</td>\n",
       "      <td>4</td>\n",
       "      <td>8.88</td>\n",
       "      <td>4</td>\n",
       "    </tr>\n",
       "    <tr>\n",
       "      <th>2</th>\n",
       "      <td>🇯🇵</td>\n",
       "      <td>Shoma Uno</td>\n",
       "      <td>0</td>\n",
       "      <td>0</td>\n",
       "      <td>2</td>\n",
       "      <td>0</td>\n",
       "      <td>0</td>\n",
       "      <td>280.42</td>\n",
       "      <td>2</td>\n",
       "      <td>125.03</td>\n",
       "      <td>...</td>\n",
       "      <td>9.16</td>\n",
       "      <td>4</td>\n",
       "      <td>8.78</td>\n",
       "      <td>4</td>\n",
       "      <td>9.07</td>\n",
       "      <td>4</td>\n",
       "      <td>9.05</td>\n",
       "      <td>4</td>\n",
       "      <td>9.00</td>\n",
       "      <td>4</td>\n",
       "    </tr>\n",
       "  </tbody>\n",
       "</table>\n",
       "<p>2 rows × 33 columns</p>\n",
       "</div>"
      ],
      "text/plain": [
       "  Nat         Skater  JGP  CS  GP  Ch  WD  MeanEventTotal  nmean  MeanEventBV  \\\n",
       "1  🇯🇵  Yuma Kagiyama    0   0   2   0   0          282.22      2       125.28   \n",
       "2  🇯🇵      Shoma Uno    0   0   2   0   0          280.42      2       125.03   \n",
       "\n",
       "   ...  MeanSS  nSS  MeanTR  nTR  MeanPE  nPE  MeanCO  nCO  MeanIN  nIN  \n",
       "1  ...    9.04    4    8.66    4    8.81    4    8.97    4    8.88    4  \n",
       "2  ...    9.16    4    8.78    4    9.07    4    9.05    4    9.00    4  \n",
       "\n",
       "[2 rows x 33 columns]"
      ]
     },
     "execution_count": 12,
     "metadata": {},
     "output_type": "execute_result"
    }
   ],
   "source": [
    "men_df = df_men_update[df_men_update.apply(lambda x: x[\"Nat\"] == '🇯🇵',axis=1)]\n",
    "Japan_Men = men_df.nlargest(2,'MeanEventTotal') \n",
    "Japan_Men_df = pd.DataFrame(Japan_Men)\n",
    "Japan_Men_df"
   ]
  },
  {
   "cell_type": "markdown",
   "id": "f4e67569",
   "metadata": {},
   "source": [
    "Setting the index value of dataframe 'Japan_Men_df', then fetching the 'MeanEventTotal' score and storing it in 'Japan_Men_Final'"
   ]
  },
  {
   "cell_type": "code",
   "execution_count": 13,
   "id": "93c2543f",
   "metadata": {},
   "outputs": [
    {
     "data": {
      "text/plain": [
       "Skater\n",
       "Yuma Kagiyama    282.22\n",
       "Shoma Uno        280.42\n",
       "Name: MeanEventTotal, dtype: float64"
      ]
     },
     "execution_count": 13,
     "metadata": {},
     "output_type": "execute_result"
    }
   ],
   "source": [
    "Japan_Men_df.set_index('Skater',inplace=True)\n",
    "Japan_Men_Final = Japan_Men_df['MeanEventTotal']\n",
    "Japan_Men_Final"
   ]
  },
  {
   "cell_type": "markdown",
   "id": "82a83826",
   "metadata": {},
   "source": [
    "Calculating probability distribution for the the two Japanese Men skaters and storing the values in 'Japan_Men_Dist' variable"
   ]
  },
  {
   "cell_type": "code",
   "execution_count": 14,
   "id": "a1d4d2cd",
   "metadata": {},
   "outputs": [
    {
     "data": {
      "text/plain": [
       "{'YK': 0.5015996018768661, 'SU': 0.49840039812313375}"
      ]
     },
     "execution_count": 14,
     "metadata": {},
     "output_type": "execute_result"
    }
   ],
   "source": [
    "Japan_Men_Dist = ProbDist(YK = Japan_Men_Final[0], SU = Japan_Men_Final[1])\n",
    "Japan_Men_Dist"
   ]
  },
  {
   "cell_type": "markdown",
   "id": "5420f827",
   "metadata": {},
   "source": [
    "Final scores of the top two Japanese skaters from the event are added and stored in 'JAPAN_MEN_TOTAL'"
   ]
  },
  {
   "cell_type": "code",
   "execution_count": 15,
   "id": "1cc9aba4",
   "metadata": {},
   "outputs": [
    {
     "data": {
      "text/plain": [
       "562.6400000000001"
      ]
     },
     "execution_count": 15,
     "metadata": {},
     "output_type": "execute_result"
    }
   ],
   "source": [
    "JAPAN_MEN_TOTAL = Japan_Men_Final[0]+Japan_Men_Final[1]\n",
    "JAPAN_MEN_TOTAL"
   ]
  },
  {
   "cell_type": "markdown",
   "id": "c91efc5d",
   "metadata": {},
   "source": [
    "Fetching the top two ranked Chinese men's skaters and storing it into a dataframe 'China_Men_df'"
   ]
  },
  {
   "cell_type": "code",
   "execution_count": 16,
   "id": "e5adf18a",
   "metadata": {},
   "outputs": [
    {
     "data": {
      "text/html": [
       "<div>\n",
       "<style scoped>\n",
       "    .dataframe tbody tr th:only-of-type {\n",
       "        vertical-align: middle;\n",
       "    }\n",
       "\n",
       "    .dataframe tbody tr th {\n",
       "        vertical-align: top;\n",
       "    }\n",
       "\n",
       "    .dataframe thead th {\n",
       "        text-align: right;\n",
       "    }\n",
       "</style>\n",
       "<table border=\"1\" class=\"dataframe\">\n",
       "  <thead>\n",
       "    <tr style=\"text-align: right;\">\n",
       "      <th></th>\n",
       "      <th>Nat</th>\n",
       "      <th>Skater</th>\n",
       "      <th>JGP</th>\n",
       "      <th>CS</th>\n",
       "      <th>GP</th>\n",
       "      <th>Ch</th>\n",
       "      <th>WD</th>\n",
       "      <th>MeanEventTotal</th>\n",
       "      <th>nmean</th>\n",
       "      <th>MeanEventBV</th>\n",
       "      <th>...</th>\n",
       "      <th>MeanSS</th>\n",
       "      <th>nSS</th>\n",
       "      <th>MeanTR</th>\n",
       "      <th>nTR</th>\n",
       "      <th>MeanPE</th>\n",
       "      <th>nPE</th>\n",
       "      <th>MeanCO</th>\n",
       "      <th>nCO</th>\n",
       "      <th>MeanIN</th>\n",
       "      <th>nIN</th>\n",
       "    </tr>\n",
       "  </thead>\n",
       "  <tbody>\n",
       "    <tr>\n",
       "      <th>19</th>\n",
       "      <td>🇨🇳</td>\n",
       "      <td>Boyang Jin</td>\n",
       "      <td>0</td>\n",
       "      <td>0</td>\n",
       "      <td>1</td>\n",
       "      <td>0</td>\n",
       "      <td>0</td>\n",
       "      <td>242.27</td>\n",
       "      <td>1</td>\n",
       "      <td>125.50</td>\n",
       "      <td>...</td>\n",
       "      <td>8.30</td>\n",
       "      <td>2</td>\n",
       "      <td>7.74</td>\n",
       "      <td>2</td>\n",
       "      <td>8.08</td>\n",
       "      <td>2</td>\n",
       "      <td>8.07</td>\n",
       "      <td>2</td>\n",
       "      <td>8.10</td>\n",
       "      <td>2</td>\n",
       "    </tr>\n",
       "    <tr>\n",
       "      <th>69</th>\n",
       "      <td>🇨🇳</td>\n",
       "      <td>Yudong Chen</td>\n",
       "      <td>0</td>\n",
       "      <td>0</td>\n",
       "      <td>1</td>\n",
       "      <td>0</td>\n",
       "      <td>0</td>\n",
       "      <td>200.96</td>\n",
       "      <td>1</td>\n",
       "      <td>108.43</td>\n",
       "      <td>...</td>\n",
       "      <td>7.27</td>\n",
       "      <td>2</td>\n",
       "      <td>6.77</td>\n",
       "      <td>2</td>\n",
       "      <td>6.86</td>\n",
       "      <td>2</td>\n",
       "      <td>7.11</td>\n",
       "      <td>2</td>\n",
       "      <td>7.04</td>\n",
       "      <td>2</td>\n",
       "    </tr>\n",
       "  </tbody>\n",
       "</table>\n",
       "<p>2 rows × 33 columns</p>\n",
       "</div>"
      ],
      "text/plain": [
       "   Nat       Skater  JGP  CS  GP  Ch  WD  MeanEventTotal  nmean  MeanEventBV  \\\n",
       "19  🇨🇳   Boyang Jin    0   0   1   0   0          242.27      1       125.50   \n",
       "69  🇨🇳  Yudong Chen    0   0   1   0   0          200.96      1       108.43   \n",
       "\n",
       "    ...  MeanSS  nSS  MeanTR  nTR  MeanPE  nPE  MeanCO  nCO  MeanIN  nIN  \n",
       "19  ...    8.30    2    7.74    2    8.08    2    8.07    2    8.10    2  \n",
       "69  ...    7.27    2    6.77    2    6.86    2    7.11    2    7.04    2  \n",
       "\n",
       "[2 rows x 33 columns]"
      ]
     },
     "execution_count": 16,
     "metadata": {},
     "output_type": "execute_result"
    }
   ],
   "source": [
    "men_df = df_men_update[df_men_update.apply(lambda x: x[\"Nat\"] == '🇨🇳',axis=1)]\n",
    "China_Men = men_df.nlargest(2,'MeanEventTotal') \n",
    "China_Men_df = pd.DataFrame(China_Men)\n",
    "China_Men_df"
   ]
  },
  {
   "cell_type": "markdown",
   "id": "2dec8a10",
   "metadata": {},
   "source": [
    "Setting the index value of dataframe 'China_Men_df', then fetching the 'MeanEventTotal' score and storing it in 'China_Men_Final'"
   ]
  },
  {
   "cell_type": "code",
   "execution_count": 17,
   "id": "d61b49ab",
   "metadata": {},
   "outputs": [
    {
     "data": {
      "text/plain": [
       "Skater\n",
       "Boyang Jin     242.27\n",
       "Yudong Chen    200.96\n",
       "Name: MeanEventTotal, dtype: float64"
      ]
     },
     "execution_count": 17,
     "metadata": {},
     "output_type": "execute_result"
    }
   ],
   "source": [
    "China_Men_df.set_index('Skater',inplace=True)\n",
    "China_Men_Final = China_Men_df['MeanEventTotal']\n",
    "China_Men_Final"
   ]
  },
  {
   "cell_type": "markdown",
   "id": "2b57cb5a",
   "metadata": {},
   "source": [
    "Calculating probability distribution for the the two Chinese Men skaters and storing the values in 'China_Men_Dist' variable"
   ]
  },
  {
   "cell_type": "code",
   "execution_count": 18,
   "id": "01fc70fd",
   "metadata": {},
   "outputs": [
    {
     "data": {
      "text/plain": [
       "{'BJ': 0.5466010874715159, 'YC': 0.4533989125284841}"
      ]
     },
     "execution_count": 18,
     "metadata": {},
     "output_type": "execute_result"
    }
   ],
   "source": [
    "China_Men_Dist = ProbDist(BJ = China_Men_Final[0], YC = China_Men_Final[1])\n",
    "China_Men_Dist"
   ]
  },
  {
   "cell_type": "markdown",
   "id": "5d4226a8",
   "metadata": {},
   "source": [
    "Final scores of the top two Chinese skaters from the event are added and stored in 'CHINA_MEN_TOTAL'"
   ]
  },
  {
   "cell_type": "code",
   "execution_count": 19,
   "id": "24aa18dc",
   "metadata": {},
   "outputs": [
    {
     "data": {
      "text/plain": [
       "443.23"
      ]
     },
     "execution_count": 19,
     "metadata": {},
     "output_type": "execute_result"
    }
   ],
   "source": [
    "CHINA_MEN_TOTAL = China_Men_Final[0]+China_Men_Final[1]\n",
    "CHINA_MEN_TOTAL"
   ]
  },
  {
   "cell_type": "markdown",
   "id": "b7131ba1",
   "metadata": {},
   "source": [
    "Fetching the top two ranked Italian men's skaters and storing it into a dataframe 'Italy_Men_df'"
   ]
  },
  {
   "cell_type": "code",
   "execution_count": 20,
   "id": "8c81166d",
   "metadata": {},
   "outputs": [
    {
     "data": {
      "text/html": [
       "<div>\n",
       "<style scoped>\n",
       "    .dataframe tbody tr th:only-of-type {\n",
       "        vertical-align: middle;\n",
       "    }\n",
       "\n",
       "    .dataframe tbody tr th {\n",
       "        vertical-align: top;\n",
       "    }\n",
       "\n",
       "    .dataframe thead th {\n",
       "        text-align: right;\n",
       "    }\n",
       "</style>\n",
       "<table border=\"1\" class=\"dataframe\">\n",
       "  <thead>\n",
       "    <tr style=\"text-align: right;\">\n",
       "      <th></th>\n",
       "      <th>Nat</th>\n",
       "      <th>Skater</th>\n",
       "      <th>JGP</th>\n",
       "      <th>CS</th>\n",
       "      <th>GP</th>\n",
       "      <th>Ch</th>\n",
       "      <th>WD</th>\n",
       "      <th>MeanEventTotal</th>\n",
       "      <th>nmean</th>\n",
       "      <th>MeanEventBV</th>\n",
       "      <th>...</th>\n",
       "      <th>MeanSS</th>\n",
       "      <th>nSS</th>\n",
       "      <th>MeanTR</th>\n",
       "      <th>nTR</th>\n",
       "      <th>MeanPE</th>\n",
       "      <th>nPE</th>\n",
       "      <th>MeanCO</th>\n",
       "      <th>nCO</th>\n",
       "      <th>MeanIN</th>\n",
       "      <th>nIN</th>\n",
       "    </tr>\n",
       "  </thead>\n",
       "  <tbody>\n",
       "    <tr>\n",
       "      <th>12</th>\n",
       "      <td>🇮🇹</td>\n",
       "      <td>Daniel Grassl</td>\n",
       "      <td>0</td>\n",
       "      <td>2</td>\n",
       "      <td>2</td>\n",
       "      <td>1</td>\n",
       "      <td>0</td>\n",
       "      <td>251.13</td>\n",
       "      <td>5</td>\n",
       "      <td>131.98</td>\n",
       "      <td>...</td>\n",
       "      <td>7.88</td>\n",
       "      <td>10</td>\n",
       "      <td>7.69</td>\n",
       "      <td>10</td>\n",
       "      <td>7.90</td>\n",
       "      <td>10</td>\n",
       "      <td>7.97</td>\n",
       "      <td>10</td>\n",
       "      <td>7.99</td>\n",
       "      <td>10</td>\n",
       "    </tr>\n",
       "    <tr>\n",
       "      <th>15</th>\n",
       "      <td>🇮🇹</td>\n",
       "      <td>Matteo Rizzo</td>\n",
       "      <td>0</td>\n",
       "      <td>1</td>\n",
       "      <td>2</td>\n",
       "      <td>0</td>\n",
       "      <td>0</td>\n",
       "      <td>248.35</td>\n",
       "      <td>3</td>\n",
       "      <td>110.61</td>\n",
       "      <td>...</td>\n",
       "      <td>8.18</td>\n",
       "      <td>6</td>\n",
       "      <td>7.96</td>\n",
       "      <td>6</td>\n",
       "      <td>8.24</td>\n",
       "      <td>6</td>\n",
       "      <td>8.32</td>\n",
       "      <td>6</td>\n",
       "      <td>8.34</td>\n",
       "      <td>6</td>\n",
       "    </tr>\n",
       "  </tbody>\n",
       "</table>\n",
       "<p>2 rows × 33 columns</p>\n",
       "</div>"
      ],
      "text/plain": [
       "   Nat         Skater  JGP  CS  GP  Ch  WD  MeanEventTotal  nmean  \\\n",
       "12  🇮🇹  Daniel Grassl    0   2   2   1   0          251.13      5   \n",
       "15  🇮🇹   Matteo Rizzo    0   1   2   0   0          248.35      3   \n",
       "\n",
       "    MeanEventBV  ...  MeanSS  nSS  MeanTR  nTR  MeanPE  nPE  MeanCO  nCO  \\\n",
       "12       131.98  ...    7.88   10    7.69   10    7.90   10    7.97   10   \n",
       "15       110.61  ...    8.18    6    7.96    6    8.24    6    8.32    6   \n",
       "\n",
       "    MeanIN  nIN  \n",
       "12    7.99   10  \n",
       "15    8.34    6  \n",
       "\n",
       "[2 rows x 33 columns]"
      ]
     },
     "execution_count": 20,
     "metadata": {},
     "output_type": "execute_result"
    }
   ],
   "source": [
    "men_df = df_men_update[df_men_update.apply(lambda x: x[\"Nat\"] == '🇮🇹',axis=1)]\n",
    "Italy_Men = men_df.nlargest(2,'MeanEventTotal') \n",
    "Italy_Men_df = pd.DataFrame(Italy_Men)\n",
    "Italy_Men_df"
   ]
  },
  {
   "cell_type": "markdown",
   "id": "a932d100",
   "metadata": {},
   "source": [
    "Setting the index value of dataframe 'Italy_Men_df', then fetching the 'MeanEventTotal' score and storing it in 'Italy_Men_Final'"
   ]
  },
  {
   "cell_type": "code",
   "execution_count": 21,
   "id": "f3f841c2",
   "metadata": {},
   "outputs": [
    {
     "data": {
      "text/plain": [
       "Skater\n",
       "Daniel Grassl    251.13\n",
       "Matteo Rizzo     248.35\n",
       "Name: MeanEventTotal, dtype: float64"
      ]
     },
     "execution_count": 21,
     "metadata": {},
     "output_type": "execute_result"
    }
   ],
   "source": [
    "Italy_Men_df.set_index('Skater',inplace=True)\n",
    "Italy_Men_Final = Italy_Men_df['MeanEventTotal']\n",
    "Italy_Men_Final"
   ]
  },
  {
   "cell_type": "markdown",
   "id": "951ea185",
   "metadata": {},
   "source": [
    "Calculating probability distribution for the the two Italian Men skaters and storing the values in 'Italy_Men_Dk' variable"
   ]
  },
  {
   "cell_type": "code",
   "execution_count": 22,
   "id": "7ad39503",
   "metadata": {},
   "outputs": [
    {
     "data": {
      "text/plain": [
       "{'DG': 0.5027828942099783, 'MR': 0.4972171057900216}"
      ]
     },
     "execution_count": 22,
     "metadata": {},
     "output_type": "execute_result"
    }
   ],
   "source": [
    "Italy_Men_Dist = ProbDist(DG = Italy_Men_Final[0], MR = Italy_Men_Final[1])\n",
    "Italy_Men_Dist"
   ]
  },
  {
   "cell_type": "markdown",
   "id": "d0d192af",
   "metadata": {},
   "source": [
    "Final scores of the top two Italy men’s skaters from the event are added and stored in 'ITALY_MEN_TOTAL'"
   ]
  },
  {
   "cell_type": "code",
   "execution_count": 23,
   "id": "956f3356",
   "metadata": {},
   "outputs": [
    {
     "data": {
      "text/plain": [
       "499.48"
      ]
     },
     "execution_count": 23,
     "metadata": {},
     "output_type": "execute_result"
    }
   ],
   "source": [
    "ITALY_MEN_TOTAL = Italy_Men_Final[0]+Italy_Men_Final[1]\n",
    "ITALY_MEN_TOTAL"
   ]
  },
  {
   "cell_type": "markdown",
   "id": "87e9d193",
   "metadata": {},
   "source": [
    "Fetching the top two ranked Canada men's skaters and storing it into a dataframe 'Canada_Men_df'"
   ]
  },
  {
   "cell_type": "code",
   "execution_count": 24,
   "id": "24da9028",
   "metadata": {},
   "outputs": [
    {
     "data": {
      "text/html": [
       "<div>\n",
       "<style scoped>\n",
       "    .dataframe tbody tr th:only-of-type {\n",
       "        vertical-align: middle;\n",
       "    }\n",
       "\n",
       "    .dataframe tbody tr th {\n",
       "        vertical-align: top;\n",
       "    }\n",
       "\n",
       "    .dataframe thead th {\n",
       "        text-align: right;\n",
       "    }\n",
       "</style>\n",
       "<table border=\"1\" class=\"dataframe\">\n",
       "  <thead>\n",
       "    <tr style=\"text-align: right;\">\n",
       "      <th></th>\n",
       "      <th>Nat</th>\n",
       "      <th>Skater</th>\n",
       "      <th>JGP</th>\n",
       "      <th>CS</th>\n",
       "      <th>GP</th>\n",
       "      <th>Ch</th>\n",
       "      <th>WD</th>\n",
       "      <th>MeanEventTotal</th>\n",
       "      <th>nmean</th>\n",
       "      <th>MeanEventBV</th>\n",
       "      <th>...</th>\n",
       "      <th>MeanSS</th>\n",
       "      <th>nSS</th>\n",
       "      <th>MeanTR</th>\n",
       "      <th>nTR</th>\n",
       "      <th>MeanPE</th>\n",
       "      <th>nPE</th>\n",
       "      <th>MeanCO</th>\n",
       "      <th>nCO</th>\n",
       "      <th>MeanIN</th>\n",
       "      <th>nIN</th>\n",
       "    </tr>\n",
       "  </thead>\n",
       "  <tbody>\n",
       "    <tr>\n",
       "      <th>16</th>\n",
       "      <td>🇨🇦</td>\n",
       "      <td>Keegan Messing</td>\n",
       "      <td>0</td>\n",
       "      <td>2</td>\n",
       "      <td>2</td>\n",
       "      <td>0</td>\n",
       "      <td>0</td>\n",
       "      <td>247.26</td>\n",
       "      <td>4</td>\n",
       "      <td>106.51</td>\n",
       "      <td>...</td>\n",
       "      <td>8.61</td>\n",
       "      <td>8</td>\n",
       "      <td>8.34</td>\n",
       "      <td>8</td>\n",
       "      <td>8.50</td>\n",
       "      <td>8</td>\n",
       "      <td>8.56</td>\n",
       "      <td>8</td>\n",
       "      <td>8.58</td>\n",
       "      <td>8</td>\n",
       "    </tr>\n",
       "    <tr>\n",
       "      <th>32</th>\n",
       "      <td>🇨🇦</td>\n",
       "      <td>Roman Sadovsky</td>\n",
       "      <td>0</td>\n",
       "      <td>1</td>\n",
       "      <td>2</td>\n",
       "      <td>0</td>\n",
       "      <td>0</td>\n",
       "      <td>226.38</td>\n",
       "      <td>3</td>\n",
       "      <td>108.13</td>\n",
       "      <td>...</td>\n",
       "      <td>8.03</td>\n",
       "      <td>6</td>\n",
       "      <td>7.80</td>\n",
       "      <td>6</td>\n",
       "      <td>7.86</td>\n",
       "      <td>6</td>\n",
       "      <td>8.05</td>\n",
       "      <td>6</td>\n",
       "      <td>8.15</td>\n",
       "      <td>6</td>\n",
       "    </tr>\n",
       "  </tbody>\n",
       "</table>\n",
       "<p>2 rows × 33 columns</p>\n",
       "</div>"
      ],
      "text/plain": [
       "   Nat          Skater  JGP  CS  GP  Ch  WD  MeanEventTotal  nmean  \\\n",
       "16  🇨🇦  Keegan Messing    0   2   2   0   0          247.26      4   \n",
       "32  🇨🇦  Roman Sadovsky    0   1   2   0   0          226.38      3   \n",
       "\n",
       "    MeanEventBV  ...  MeanSS  nSS  MeanTR  nTR  MeanPE  nPE  MeanCO  nCO  \\\n",
       "16       106.51  ...    8.61    8    8.34    8    8.50    8    8.56    8   \n",
       "32       108.13  ...    8.03    6    7.80    6    7.86    6    8.05    6   \n",
       "\n",
       "    MeanIN  nIN  \n",
       "16    8.58    8  \n",
       "32    8.15    6  \n",
       "\n",
       "[2 rows x 33 columns]"
      ]
     },
     "execution_count": 24,
     "metadata": {},
     "output_type": "execute_result"
    }
   ],
   "source": [
    "men_df = df_men_update[df_men_update.apply(lambda x: x[\"Nat\"] == '🇨🇦',axis=1)]\n",
    "Canada_Men = men_df.nlargest(2,'MeanEventTotal') \n",
    "Canada_Men_df = pd.DataFrame(Canada_Men)\n",
    "Canada_Men_df"
   ]
  },
  {
   "cell_type": "markdown",
   "id": "ddeda2c5",
   "metadata": {},
   "source": [
    "Setting the index value of dataframe 'Canada_Men_df', then fetching the 'MeanEventTotal' score and storing it in 'Canada_Men_Final'"
   ]
  },
  {
   "cell_type": "code",
   "execution_count": 25,
   "id": "db899cfd",
   "metadata": {},
   "outputs": [
    {
     "data": {
      "text/plain": [
       "Skater\n",
       "Keegan Messing    247.26\n",
       "Roman Sadovsky    226.38\n",
       "Name: MeanEventTotal, dtype: float64"
      ]
     },
     "execution_count": 25,
     "metadata": {},
     "output_type": "execute_result"
    }
   ],
   "source": [
    "Canada_Men_df.set_index('Skater',inplace=True)\n",
    "Canada_Men_Final = Canada_Men_df['MeanEventTotal']\n",
    "Canada_Men_Final"
   ]
  },
  {
   "cell_type": "markdown",
   "id": "ddc1bd18",
   "metadata": {},
   "source": [
    "Calculating probability distribution for the the two Canada Men skaters and storing the values in 'Canada_Men_Dist' variable"
   ]
  },
  {
   "cell_type": "code",
   "execution_count": 26,
   "id": "8572d213",
   "metadata": {},
   "outputs": [
    {
     "data": {
      "text/plain": [
       "{'KM': 0.5220420572586775, 'RS': 0.47795794274132253}"
      ]
     },
     "execution_count": 26,
     "metadata": {},
     "output_type": "execute_result"
    }
   ],
   "source": [
    "Canada_Men_Dist = ProbDist(KM = Canada_Men_Final[0], RS = Canada_Men_Final[1])\n",
    "Canada_Men_Dist"
   ]
  },
  {
   "cell_type": "markdown",
   "id": "6cf31dda",
   "metadata": {},
   "source": [
    "Final scores of the top two Canada men’s skaters from the event are added and stored in 'CANADA_MEN_TOTAL'"
   ]
  },
  {
   "cell_type": "code",
   "execution_count": 27,
   "id": "f308100c",
   "metadata": {},
   "outputs": [
    {
     "data": {
      "text/plain": [
       "473.64"
      ]
     },
     "execution_count": 27,
     "metadata": {},
     "output_type": "execute_result"
    }
   ],
   "source": [
    "CANADA_MEN_TOTAL = Canada_Men_Final[0]+Canada_Men_Final[1]\n",
    "CANADA_MEN_TOTAL"
   ]
  },
  {
   "cell_type": "markdown",
   "id": "33373b1b",
   "metadata": {},
   "source": [
    "Fetching the top two ranked russian men's skaters and storing it into a dataframe 'Russia_MEN_df'"
   ]
  },
  {
   "cell_type": "code",
   "execution_count": 28,
   "id": "a1efdb4c",
   "metadata": {},
   "outputs": [
    {
     "data": {
      "text/html": [
       "<div>\n",
       "<style scoped>\n",
       "    .dataframe tbody tr th:only-of-type {\n",
       "        vertical-align: middle;\n",
       "    }\n",
       "\n",
       "    .dataframe tbody tr th {\n",
       "        vertical-align: top;\n",
       "    }\n",
       "\n",
       "    .dataframe thead th {\n",
       "        text-align: right;\n",
       "    }\n",
       "</style>\n",
       "<table border=\"1\" class=\"dataframe\">\n",
       "  <thead>\n",
       "    <tr style=\"text-align: right;\">\n",
       "      <th></th>\n",
       "      <th>Nat</th>\n",
       "      <th>Skater</th>\n",
       "      <th>JGP</th>\n",
       "      <th>CS</th>\n",
       "      <th>GP</th>\n",
       "      <th>Ch</th>\n",
       "      <th>WD</th>\n",
       "      <th>MeanEventTotal</th>\n",
       "      <th>nmean</th>\n",
       "      <th>MeanEventBV</th>\n",
       "      <th>...</th>\n",
       "      <th>MeanSS</th>\n",
       "      <th>nSS</th>\n",
       "      <th>MeanTR</th>\n",
       "      <th>nTR</th>\n",
       "      <th>MeanPE</th>\n",
       "      <th>nPE</th>\n",
       "      <th>MeanCO</th>\n",
       "      <th>nCO</th>\n",
       "      <th>MeanIN</th>\n",
       "      <th>nIN</th>\n",
       "    </tr>\n",
       "  </thead>\n",
       "  <tbody>\n",
       "    <tr>\n",
       "      <th>4</th>\n",
       "      <td>🇷🇺</td>\n",
       "      <td>Mikhail Kolyada</td>\n",
       "      <td>0</td>\n",
       "      <td>1</td>\n",
       "      <td>2</td>\n",
       "      <td>0</td>\n",
       "      <td>0</td>\n",
       "      <td>265.06</td>\n",
       "      <td>3</td>\n",
       "      <td>123.43</td>\n",
       "      <td>...</td>\n",
       "      <td>8.86</td>\n",
       "      <td>6</td>\n",
       "      <td>8.63</td>\n",
       "      <td>6</td>\n",
       "      <td>8.66</td>\n",
       "      <td>6</td>\n",
       "      <td>8.92</td>\n",
       "      <td>6</td>\n",
       "      <td>8.77</td>\n",
       "      <td>6</td>\n",
       "    </tr>\n",
       "    <tr>\n",
       "      <th>10</th>\n",
       "      <td>🇷🇺</td>\n",
       "      <td>Mark Kondratiuk</td>\n",
       "      <td>0</td>\n",
       "      <td>2</td>\n",
       "      <td>1</td>\n",
       "      <td>1</td>\n",
       "      <td>0</td>\n",
       "      <td>252.40</td>\n",
       "      <td>4</td>\n",
       "      <td>122.74</td>\n",
       "      <td>...</td>\n",
       "      <td>8.13</td>\n",
       "      <td>8</td>\n",
       "      <td>7.84</td>\n",
       "      <td>8</td>\n",
       "      <td>8.14</td>\n",
       "      <td>8</td>\n",
       "      <td>8.16</td>\n",
       "      <td>8</td>\n",
       "      <td>8.25</td>\n",
       "      <td>8</td>\n",
       "    </tr>\n",
       "  </tbody>\n",
       "</table>\n",
       "<p>2 rows × 33 columns</p>\n",
       "</div>"
      ],
      "text/plain": [
       "   Nat           Skater  JGP  CS  GP  Ch  WD  MeanEventTotal  nmean  \\\n",
       "4   🇷🇺  Mikhail Kolyada    0   1   2   0   0          265.06      3   \n",
       "10  🇷🇺  Mark Kondratiuk    0   2   1   1   0          252.40      4   \n",
       "\n",
       "    MeanEventBV  ...  MeanSS  nSS  MeanTR  nTR  MeanPE  nPE  MeanCO  nCO  \\\n",
       "4        123.43  ...    8.86    6    8.63    6    8.66    6    8.92    6   \n",
       "10       122.74  ...    8.13    8    7.84    8    8.14    8    8.16    8   \n",
       "\n",
       "    MeanIN  nIN  \n",
       "4     8.77    6  \n",
       "10    8.25    8  \n",
       "\n",
       "[2 rows x 33 columns]"
      ]
     },
     "execution_count": 28,
     "metadata": {},
     "output_type": "execute_result"
    }
   ],
   "source": [
    "men_df = df_men_update[df_men_update.apply(lambda x: x[\"Nat\"] == '🇷🇺',axis=1)]\n",
    "Russia_Men = men_df.nlargest(2,'MeanEventTotal') \n",
    "Russia_Men_df = pd.DataFrame(Russia_Men)\n",
    "Russia_Men_df"
   ]
  },
  {
   "cell_type": "markdown",
   "id": "a6e1656b",
   "metadata": {},
   "source": [
    "Setting the index value of dataframe 'Russia_Men_df', then fetching the 'MeanEventTotal' score and storing it in 'Russia_Men_Final'"
   ]
  },
  {
   "cell_type": "code",
   "execution_count": 29,
   "id": "c0ce68bf",
   "metadata": {},
   "outputs": [
    {
     "data": {
      "text/plain": [
       "Skater\n",
       "Mikhail Kolyada    265.06\n",
       "Mark Kondratiuk    252.40\n",
       "Name: MeanEventTotal, dtype: float64"
      ]
     },
     "execution_count": 29,
     "metadata": {},
     "output_type": "execute_result"
    }
   ],
   "source": [
    "Russia_Men_df.set_index('Skater',inplace=True)\n",
    "Russia_Men_Final=Russia_Men_df['MeanEventTotal']\n",
    "Russia_Men_Final"
   ]
  },
  {
   "cell_type": "markdown",
   "id": "bf9411e3",
   "metadata": {},
   "source": [
    "Calculating probability distribution for the the two Russian Men skaters and storing the values in 'Russia_Men_Dist' variable"
   ]
  },
  {
   "cell_type": "code",
   "execution_count": 30,
   "id": "bb9c1b74",
   "metadata": {},
   "outputs": [
    {
     "data": {
      "text/plain": [
       "{'MiK': 0.5122328295906929, 'MaK': 0.48776717040930695}"
      ]
     },
     "execution_count": 30,
     "metadata": {},
     "output_type": "execute_result"
    }
   ],
   "source": [
    "Russia_Men_Dist = ProbDist(MiK = Russia_Men_Final[0], MaK = Russia_Men_Final[1])\n",
    "Russia_Men_Dist"
   ]
  },
  {
   "cell_type": "markdown",
   "id": "d3bd5ba8",
   "metadata": {},
   "source": [
    "Final scores of the top two Russia men’s skaters from the event are added and stored in 'RUSSIA_MEN_TOTAL'"
   ]
  },
  {
   "cell_type": "code",
   "execution_count": 31,
   "id": "4e53efde",
   "metadata": {},
   "outputs": [
    {
     "data": {
      "text/plain": [
       "517.46"
      ]
     },
     "execution_count": 31,
     "metadata": {},
     "output_type": "execute_result"
    }
   ],
   "source": [
    "RUSSIA_MEN_TOTAL = Russia_Men_Final[0]+Russia_Men_Final[1]\n",
    "RUSSIA_MEN_TOTAL"
   ]
  },
  {
   "cell_type": "markdown",
   "id": "39a86586",
   "metadata": {},
   "source": [
    "The probability distribution of men's skaters from teams US,Japan,China,Italy,Canada and Russia are calculated and stored in 'MEN_PROB'. \n",
    "\n",
    "US Men's team have the most chances(18.5%) of winning the event, followed by Japan Men's team(18.35%), Russian Men's team(16.88%), Italian Men's team(16.29%), Canadian Men's team(15.45%). Chinese Men's team have the least chances(14.46%) of winning the event."
   ]
  },
  {
   "cell_type": "code",
   "execution_count": 32,
   "id": "fbefd82f",
   "metadata": {},
   "outputs": [
    {
     "data": {
      "text/plain": [
       "{'USM': 0.1854683202333526,\n",
       " 'JAPANM': 0.18357591952729138,\n",
       " 'CHINAM': 0.1446153043012963,\n",
       " 'ITALYM': 0.1629683283902522,\n",
       " 'CANADAM': 0.1545373569687656,\n",
       " 'RUSSIAM': 0.168834770579042}"
      ]
     },
     "execution_count": 32,
     "metadata": {},
     "output_type": "execute_result"
    }
   ],
   "source": [
    "MEN_PROB=ProbDist(USM=US_MEN_TOTAL,JAPANM=JAPAN_MEN_TOTAL, CHINAM=CHINA_MEN_TOTAL,ITALYM=ITALY_MEN_TOTAL,CANADAM=CANADA_MEN_TOTAL,RUSSIAM=RUSSIA_MEN_TOTAL)\n",
    "MEN_PROB"
   ]
  },
  {
   "cell_type": "markdown",
   "id": "155ed6e4",
   "metadata": {},
   "source": [
    "Fetching the top two ranked US women's skaters and storing it into a dataframe 'US_Women_df'"
   ]
  },
  {
   "cell_type": "code",
   "execution_count": 33,
   "id": "82cab31f",
   "metadata": {},
   "outputs": [
    {
     "data": {
      "text/html": [
       "<div>\n",
       "<style scoped>\n",
       "    .dataframe tbody tr th:only-of-type {\n",
       "        vertical-align: middle;\n",
       "    }\n",
       "\n",
       "    .dataframe tbody tr th {\n",
       "        vertical-align: top;\n",
       "    }\n",
       "\n",
       "    .dataframe thead th {\n",
       "        text-align: right;\n",
       "    }\n",
       "</style>\n",
       "<table border=\"1\" class=\"dataframe\">\n",
       "  <thead>\n",
       "    <tr style=\"text-align: right;\">\n",
       "      <th></th>\n",
       "      <th>Nat</th>\n",
       "      <th>Skater</th>\n",
       "      <th>JGP</th>\n",
       "      <th>CS</th>\n",
       "      <th>GP</th>\n",
       "      <th>Ch</th>\n",
       "      <th>WD</th>\n",
       "      <th>MeanEventTotal</th>\n",
       "      <th>nmean</th>\n",
       "      <th>MeanEventBV</th>\n",
       "      <th>...</th>\n",
       "      <th>MeanSS</th>\n",
       "      <th>nSS</th>\n",
       "      <th>MeanTR</th>\n",
       "      <th>NTR</th>\n",
       "      <th>MeanPE</th>\n",
       "      <th>nPE</th>\n",
       "      <th>MeanCO</th>\n",
       "      <th>nCO</th>\n",
       "      <th>MeanIN</th>\n",
       "      <th>nIN</th>\n",
       "    </tr>\n",
       "  </thead>\n",
       "  <tbody>\n",
       "    <tr>\n",
       "      <th>13</th>\n",
       "      <td>🇺🇸</td>\n",
       "      <td>Alysa Liu</td>\n",
       "      <td>0</td>\n",
       "      <td>2</td>\n",
       "      <td>2</td>\n",
       "      <td>0</td>\n",
       "      <td>0</td>\n",
       "      <td>209.02</td>\n",
       "      <td>4</td>\n",
       "      <td>97.68</td>\n",
       "      <td>...</td>\n",
       "      <td>8.30</td>\n",
       "      <td>8</td>\n",
       "      <td>8.16</td>\n",
       "      <td>8</td>\n",
       "      <td>8.4</td>\n",
       "      <td>8</td>\n",
       "      <td>8.41</td>\n",
       "      <td>8</td>\n",
       "      <td>8.42</td>\n",
       "      <td>8</td>\n",
       "    </tr>\n",
       "    <tr>\n",
       "      <th>15</th>\n",
       "      <td>🇺🇸</td>\n",
       "      <td>Isabeau Levito</td>\n",
       "      <td>2</td>\n",
       "      <td>0</td>\n",
       "      <td>0</td>\n",
       "      <td>0</td>\n",
       "      <td>0</td>\n",
       "      <td>205.33</td>\n",
       "      <td>2</td>\n",
       "      <td>92.94</td>\n",
       "      <td>...</td>\n",
       "      <td>7.62</td>\n",
       "      <td>4</td>\n",
       "      <td>7.59</td>\n",
       "      <td>4</td>\n",
       "      <td>7.8</td>\n",
       "      <td>4</td>\n",
       "      <td>7.72</td>\n",
       "      <td>4</td>\n",
       "      <td>7.92</td>\n",
       "      <td>4</td>\n",
       "    </tr>\n",
       "  </tbody>\n",
       "</table>\n",
       "<p>2 rows × 33 columns</p>\n",
       "</div>"
      ],
      "text/plain": [
       "   Nat          Skater  JGP  CS  GP  Ch  WD  MeanEventTotal  nmean  \\\n",
       "13  🇺🇸       Alysa Liu    0   2   2   0   0          209.02      4   \n",
       "15  🇺🇸  Isabeau Levito    2   0   0   0   0          205.33      2   \n",
       "\n",
       "    MeanEventBV  ...  MeanSS  nSS  MeanTR  NTR  MeanPE  nPE  MeanCO  nCO  \\\n",
       "13        97.68  ...    8.30    8    8.16    8     8.4    8    8.41    8   \n",
       "15        92.94  ...    7.62    4    7.59    4     7.8    4    7.72    4   \n",
       "\n",
       "    MeanIN  nIN  \n",
       "13    8.42    8  \n",
       "15    7.92    4  \n",
       "\n",
       "[2 rows x 33 columns]"
      ]
     },
     "execution_count": 33,
     "metadata": {},
     "output_type": "execute_result"
    }
   ],
   "source": [
    "women_df = df_women_update[df_women_update.apply(lambda x: x[\"Nat\"] == '🇺🇸',axis=1)]\n",
    "US_Women = women_df.nlargest(2,'MeanEventTotal')\n",
    "US_Women_df = pd.DataFrame(US_Women)\n",
    "US_Women_df"
   ]
  },
  {
   "cell_type": "markdown",
   "id": "f8d83575",
   "metadata": {},
   "source": [
    "Setting the index value of dataframe 'US_Women_df', then fetching the 'MeanEventTotal' score and storing it in 'US_Women_Final'"
   ]
  },
  {
   "cell_type": "code",
   "execution_count": 34,
   "id": "f0aae530",
   "metadata": {},
   "outputs": [
    {
     "data": {
      "text/plain": [
       "Skater\n",
       "Alysa Liu         209.02\n",
       "Isabeau Levito    205.33\n",
       "Name: MeanEventTotal, dtype: float64"
      ]
     },
     "execution_count": 34,
     "metadata": {},
     "output_type": "execute_result"
    }
   ],
   "source": [
    "US_Women_df.set_index('Skater',inplace=True)\n",
    "US_Women_final = US_Women_df['MeanEventTotal']\n",
    "US_Women_final"
   ]
  },
  {
   "cell_type": "markdown",
   "id": "4c97859d",
   "metadata": {},
   "source": [
    "Calculating probability distribution for the the two US women skaters and storing the values in 'US_Women_Dist' variable"
   ]
  },
  {
   "cell_type": "code",
   "execution_count": 35,
   "id": "087d1af6",
   "metadata": {},
   "outputs": [
    {
     "data": {
      "text/plain": [
       "{'AL': 0.504452757330759, 'IL': 0.495547242669241}"
      ]
     },
     "execution_count": 35,
     "metadata": {},
     "output_type": "execute_result"
    }
   ],
   "source": [
    "US_Women_Dist = ProbDist(AL = US_Women_final[0], IL = US_Women_final[1])\n",
    "US_Women_Dist"
   ]
  },
  {
   "cell_type": "markdown",
   "id": "50d9d197",
   "metadata": {},
   "source": [
    "Final scores of the top two US women’s skaters from the event are added and stored in 'US_WOMEN_TOTAL'"
   ]
  },
  {
   "cell_type": "code",
   "execution_count": 36,
   "id": "5eb1b930",
   "metadata": {},
   "outputs": [
    {
     "data": {
      "text/plain": [
       "414.35"
      ]
     },
     "execution_count": 36,
     "metadata": {},
     "output_type": "execute_result"
    }
   ],
   "source": [
    "US_WOMEN_TOTAL=US_Women_final[0]+US_Women_final[1]\n",
    "US_WOMEN_TOTAL"
   ]
  },
  {
   "cell_type": "markdown",
   "id": "b3d77597",
   "metadata": {},
   "source": [
    "Fetching the top two ranked Japan women's skaters and storing it into a dataframe 'Japan_Women_df'"
   ]
  },
  {
   "cell_type": "code",
   "execution_count": 37,
   "id": "8c26a3d2",
   "metadata": {},
   "outputs": [
    {
     "data": {
      "text/html": [
       "<div>\n",
       "<style scoped>\n",
       "    .dataframe tbody tr th:only-of-type {\n",
       "        vertical-align: middle;\n",
       "    }\n",
       "\n",
       "    .dataframe tbody tr th {\n",
       "        vertical-align: top;\n",
       "    }\n",
       "\n",
       "    .dataframe thead th {\n",
       "        text-align: right;\n",
       "    }\n",
       "</style>\n",
       "<table border=\"1\" class=\"dataframe\">\n",
       "  <thead>\n",
       "    <tr style=\"text-align: right;\">\n",
       "      <th></th>\n",
       "      <th>Nat</th>\n",
       "      <th>Skater</th>\n",
       "      <th>JGP</th>\n",
       "      <th>CS</th>\n",
       "      <th>GP</th>\n",
       "      <th>Ch</th>\n",
       "      <th>WD</th>\n",
       "      <th>MeanEventTotal</th>\n",
       "      <th>nmean</th>\n",
       "      <th>MeanEventBV</th>\n",
       "      <th>...</th>\n",
       "      <th>MeanSS</th>\n",
       "      <th>nSS</th>\n",
       "      <th>MeanTR</th>\n",
       "      <th>NTR</th>\n",
       "      <th>MeanPE</th>\n",
       "      <th>nPE</th>\n",
       "      <th>MeanCO</th>\n",
       "      <th>nCO</th>\n",
       "      <th>MeanIN</th>\n",
       "      <th>nIN</th>\n",
       "    </tr>\n",
       "  </thead>\n",
       "  <tbody>\n",
       "    <tr>\n",
       "      <th>5</th>\n",
       "      <td>🇯🇵</td>\n",
       "      <td>Kaori Sakamoto</td>\n",
       "      <td>0</td>\n",
       "      <td>0</td>\n",
       "      <td>2</td>\n",
       "      <td>0</td>\n",
       "      <td>0</td>\n",
       "      <td>219.64</td>\n",
       "      <td>2</td>\n",
       "      <td>92.44</td>\n",
       "      <td>...</td>\n",
       "      <td>9.00</td>\n",
       "      <td>4</td>\n",
       "      <td>8.61</td>\n",
       "      <td>4</td>\n",
       "      <td>8.93</td>\n",
       "      <td>4</td>\n",
       "      <td>8.84</td>\n",
       "      <td>4</td>\n",
       "      <td>8.84</td>\n",
       "      <td>4</td>\n",
       "    </tr>\n",
       "    <tr>\n",
       "      <th>9</th>\n",
       "      <td>🇯🇵</td>\n",
       "      <td>Mai Mihara</td>\n",
       "      <td>0</td>\n",
       "      <td>0</td>\n",
       "      <td>2</td>\n",
       "      <td>1</td>\n",
       "      <td>0</td>\n",
       "      <td>214.33</td>\n",
       "      <td>3</td>\n",
       "      <td>95.13</td>\n",
       "      <td>...</td>\n",
       "      <td>8.19</td>\n",
       "      <td>6</td>\n",
       "      <td>8.00</td>\n",
       "      <td>6</td>\n",
       "      <td>8.33</td>\n",
       "      <td>6</td>\n",
       "      <td>8.24</td>\n",
       "      <td>6</td>\n",
       "      <td>8.24</td>\n",
       "      <td>6</td>\n",
       "    </tr>\n",
       "  </tbody>\n",
       "</table>\n",
       "<p>2 rows × 33 columns</p>\n",
       "</div>"
      ],
      "text/plain": [
       "  Nat          Skater  JGP  CS  GP  Ch  WD  MeanEventTotal  nmean  \\\n",
       "5  🇯🇵  Kaori Sakamoto    0   0   2   0   0          219.64      2   \n",
       "9  🇯🇵      Mai Mihara    0   0   2   1   0          214.33      3   \n",
       "\n",
       "   MeanEventBV  ...  MeanSS  nSS  MeanTR  NTR  MeanPE  nPE  MeanCO  nCO  \\\n",
       "5        92.44  ...    9.00    4    8.61    4    8.93    4    8.84    4   \n",
       "9        95.13  ...    8.19    6    8.00    6    8.33    6    8.24    6   \n",
       "\n",
       "   MeanIN  nIN  \n",
       "5    8.84    4  \n",
       "9    8.24    6  \n",
       "\n",
       "[2 rows x 33 columns]"
      ]
     },
     "execution_count": 37,
     "metadata": {},
     "output_type": "execute_result"
    }
   ],
   "source": [
    "women_df = df_women_update[df_women_update.apply(lambda x: x[\"Nat\"] == '🇯🇵',axis=1)]\n",
    "Japan_Women = women_df.nlargest(2,'MeanEventTotal') \n",
    "Japan_Women_df = pd.DataFrame(Japan_Women)\n",
    "Japan_Women_df"
   ]
  },
  {
   "cell_type": "markdown",
   "id": "8ef88d79",
   "metadata": {},
   "source": [
    "Setting the index value of dataframe 'Japan_Women_df', then fetching the 'MeanEventTotal' score and storing it in 'Japan_Women_Final'"
   ]
  },
  {
   "cell_type": "code",
   "execution_count": 38,
   "id": "c152e95c",
   "metadata": {},
   "outputs": [
    {
     "data": {
      "text/plain": [
       "Skater\n",
       "Kaori Sakamoto    219.64\n",
       "Mai Mihara        214.33\n",
       "Name: MeanEventTotal, dtype: float64"
      ]
     },
     "execution_count": 38,
     "metadata": {},
     "output_type": "execute_result"
    }
   ],
   "source": [
    "Japan_Women_df.set_index('Skater',inplace=True)\n",
    "Japan_Women_final = Japan_Women_df['MeanEventTotal']\n",
    "Japan_Women_final"
   ]
  },
  {
   "cell_type": "markdown",
   "id": "42cbbca8",
   "metadata": {},
   "source": [
    "Calculating probability distribution for the the two Japan women skaters and storing the values in 'Japan_Women_Dist' variable"
   ]
  },
  {
   "cell_type": "code",
   "execution_count": 39,
   "id": "1ffb9f8e",
   "metadata": {},
   "outputs": [
    {
     "data": {
      "text/plain": [
       "{'KS': 0.5061179344194299, 'MM': 0.4938820655805701}"
      ]
     },
     "execution_count": 39,
     "metadata": {},
     "output_type": "execute_result"
    }
   ],
   "source": [
    "Japan_Women_Dist = ProbDist(KS = Japan_Women_final[0], MM = Japan_Women_final[1])\n",
    "Japan_Women_Dist"
   ]
  },
  {
   "cell_type": "markdown",
   "id": "35bd4c2f",
   "metadata": {},
   "source": [
    "Final scores of the top two Japan women’s skaters from the event are added and stored in 'JAPAN_WOMEN_TOTAL'"
   ]
  },
  {
   "cell_type": "code",
   "execution_count": 40,
   "id": "2948033b",
   "metadata": {},
   "outputs": [
    {
     "data": {
      "text/plain": [
       "433.97"
      ]
     },
     "execution_count": 40,
     "metadata": {},
     "output_type": "execute_result"
    }
   ],
   "source": [
    "JAPAN_WOMEN_TOTAL = Japan_Women_final[0]+Japan_Women_final[1]\n",
    "JAPAN_WOMEN_TOTAL"
   ]
  },
  {
   "cell_type": "markdown",
   "id": "2021a772",
   "metadata": {},
   "source": [
    "Fetching the top two ranked China women's skaters and storing it into a dataframe 'China_Women_df'\n",
    "\n",
    "__Since there is only one skater present in the table, we will manually add the other skaters total.__"
   ]
  },
  {
   "cell_type": "code",
   "execution_count": 41,
   "id": "f46752cc",
   "metadata": {},
   "outputs": [
    {
     "data": {
      "text/html": [
       "<div>\n",
       "<style scoped>\n",
       "    .dataframe tbody tr th:only-of-type {\n",
       "        vertical-align: middle;\n",
       "    }\n",
       "\n",
       "    .dataframe tbody tr th {\n",
       "        vertical-align: top;\n",
       "    }\n",
       "\n",
       "    .dataframe thead th {\n",
       "        text-align: right;\n",
       "    }\n",
       "</style>\n",
       "<table border=\"1\" class=\"dataframe\">\n",
       "  <thead>\n",
       "    <tr style=\"text-align: right;\">\n",
       "      <th></th>\n",
       "      <th>Nat</th>\n",
       "      <th>Skater</th>\n",
       "      <th>JGP</th>\n",
       "      <th>CS</th>\n",
       "      <th>GP</th>\n",
       "      <th>Ch</th>\n",
       "      <th>WD</th>\n",
       "      <th>MeanEventTotal</th>\n",
       "      <th>nmean</th>\n",
       "      <th>MeanEventBV</th>\n",
       "      <th>...</th>\n",
       "      <th>MeanSS</th>\n",
       "      <th>nSS</th>\n",
       "      <th>MeanTR</th>\n",
       "      <th>NTR</th>\n",
       "      <th>MeanPE</th>\n",
       "      <th>nPE</th>\n",
       "      <th>MeanCO</th>\n",
       "      <th>nCO</th>\n",
       "      <th>MeanIN</th>\n",
       "      <th>nIN</th>\n",
       "    </tr>\n",
       "  </thead>\n",
       "  <tbody>\n",
       "    <tr>\n",
       "      <th>54</th>\n",
       "      <td>🇨🇳</td>\n",
       "      <td>Yi Zhu</td>\n",
       "      <td>0</td>\n",
       "      <td>0</td>\n",
       "      <td>1</td>\n",
       "      <td>0</td>\n",
       "      <td>0</td>\n",
       "      <td>171.25</td>\n",
       "      <td>1</td>\n",
       "      <td>79.86</td>\n",
       "      <td>...</td>\n",
       "      <td>7.23</td>\n",
       "      <td>2</td>\n",
       "      <td>6.8</td>\n",
       "      <td>2</td>\n",
       "      <td>7.09</td>\n",
       "      <td>2</td>\n",
       "      <td>7.1</td>\n",
       "      <td>2</td>\n",
       "      <td>7.02</td>\n",
       "      <td>2</td>\n",
       "    </tr>\n",
       "  </tbody>\n",
       "</table>\n",
       "<p>1 rows × 33 columns</p>\n",
       "</div>"
      ],
      "text/plain": [
       "   Nat  Skater  JGP  CS  GP  Ch  WD  MeanEventTotal  nmean  MeanEventBV  ...  \\\n",
       "54  🇨🇳  Yi Zhu    0   0   1   0   0          171.25      1        79.86  ...   \n",
       "\n",
       "    MeanSS  nSS  MeanTR  NTR  MeanPE  nPE  MeanCO  nCO  MeanIN  nIN  \n",
       "54    7.23    2     6.8    2    7.09    2     7.1    2    7.02    2  \n",
       "\n",
       "[1 rows x 33 columns]"
      ]
     },
     "execution_count": 41,
     "metadata": {},
     "output_type": "execute_result"
    }
   ],
   "source": [
    "women_df = df_women_update[df_women_update.apply(lambda x: x[\"Nat\"] == '🇨🇳',axis=1)]\n",
    "China_Women = women_df.nlargest(2,'MeanEventTotal') \n",
    "China_Women_df = pd.DataFrame(China_Women)\n",
    "China_Women_df"
   ]
  },
  {
   "cell_type": "markdown",
   "id": "c3ab3303",
   "metadata": {},
   "source": [
    "Setting the index value of dataframe 'China_Women_df', then fetching the 'MeanEventTotal' score and storing it in 'China_Women_Final'"
   ]
  },
  {
   "cell_type": "code",
   "execution_count": 42,
   "id": "6187c44e",
   "metadata": {},
   "outputs": [
    {
     "data": {
      "text/plain": [
       "Skater\n",
       "Yi Zhu    171.25\n",
       "Name: MeanEventTotal, dtype: float64"
      ]
     },
     "execution_count": 42,
     "metadata": {},
     "output_type": "execute_result"
    }
   ],
   "source": [
    "China_Women_df.set_index('Skater',inplace=True)\n",
    "China_Women_final=China_Women_df['MeanEventTotal']\n",
    "China_Women_final"
   ]
  },
  {
   "cell_type": "code",
   "execution_count": 43,
   "id": "d4bd11cd",
   "metadata": {},
   "outputs": [
    {
     "name": "stderr",
     "output_type": "stream",
     "text": [
      "<ipython-input-43-39bc9b1f9b88>:1: SettingWithCopyWarning: \n",
      "A value is trying to be set on a copy of a slice from a DataFrame\n",
      "\n",
      "See the caveats in the documentation: https://pandas.pydata.org/pandas-docs/stable/user_guide/indexing.html#returning-a-view-versus-a-copy\n",
      "  ChinaWfinal['Shan Ashley Lin']=157.85\n"
     ]
    },
    {
     "data": {
      "text/plain": [
       "Skater\n",
       "Yi Zhu             171.25\n",
       "Shan Ashley Lin    157.85\n",
       "Name: MeanEventTotal, dtype: float64"
      ]
     },
     "execution_count": 43,
     "metadata": {},
     "output_type": "execute_result"
    }
   ],
   "source": [
    "China_Women_final['Shan Ashley Lin']=157.85\n",
    "China_Women_final"
   ]
  },
  {
   "cell_type": "markdown",
   "id": "5805d479",
   "metadata": {},
   "source": [
    "Calculating probability distribution for the the two China women skaters and storing the values in 'China_Women_Dist' variable"
   ]
  },
  {
   "cell_type": "code",
   "execution_count": 44,
   "id": "6b694ebf",
   "metadata": {},
   "outputs": [
    {
     "data": {
      "text/plain": [
       "{'YZ': 0.5203585536311152, 'SAL': 0.4796414463688848}"
      ]
     },
     "execution_count": 44,
     "metadata": {},
     "output_type": "execute_result"
    }
   ],
   "source": [
    "China_Women_Dist = ProbDist(YZ = China_Women_final[0], SAL = China_Women_final[1])\n",
    "China_Women_Dist"
   ]
  },
  {
   "cell_type": "markdown",
   "id": "b1c92bfe",
   "metadata": {},
   "source": [
    "Final scores of the top two China women’s skaters from the event are added and stored in 'CHINA_WOMEN_TOTAL'"
   ]
  },
  {
   "cell_type": "code",
   "execution_count": 45,
   "id": "d53524c8",
   "metadata": {},
   "outputs": [
    {
     "data": {
      "text/plain": [
       "329.1"
      ]
     },
     "execution_count": 45,
     "metadata": {},
     "output_type": "execute_result"
    }
   ],
   "source": [
    "CHINA_WOMEN_TOTAL=China_Women_final[0]+China_Women_final[1]\n",
    "CHINA_WOMEN_TOTAL"
   ]
  },
  {
   "cell_type": "markdown",
   "id": "3a3ac619",
   "metadata": {},
   "source": [
    "Fetching the top two ranked Italy women's skaters and storing it into a dataframe 'Italy_Women_df'"
   ]
  },
  {
   "cell_type": "code",
   "execution_count": 46,
   "id": "26b870df",
   "metadata": {},
   "outputs": [
    {
     "data": {
      "text/html": [
       "<div>\n",
       "<style scoped>\n",
       "    .dataframe tbody tr th:only-of-type {\n",
       "        vertical-align: middle;\n",
       "    }\n",
       "\n",
       "    .dataframe tbody tr th {\n",
       "        vertical-align: top;\n",
       "    }\n",
       "\n",
       "    .dataframe thead th {\n",
       "        text-align: right;\n",
       "    }\n",
       "</style>\n",
       "<table border=\"1\" class=\"dataframe\">\n",
       "  <thead>\n",
       "    <tr style=\"text-align: right;\">\n",
       "      <th></th>\n",
       "      <th>Nat</th>\n",
       "      <th>Skater</th>\n",
       "      <th>JGP</th>\n",
       "      <th>CS</th>\n",
       "      <th>GP</th>\n",
       "      <th>Ch</th>\n",
       "      <th>WD</th>\n",
       "      <th>MeanEventTotal</th>\n",
       "      <th>nmean</th>\n",
       "      <th>MeanEventBV</th>\n",
       "      <th>...</th>\n",
       "      <th>MeanSS</th>\n",
       "      <th>nSS</th>\n",
       "      <th>MeanTR</th>\n",
       "      <th>NTR</th>\n",
       "      <th>MeanPE</th>\n",
       "      <th>nPE</th>\n",
       "      <th>MeanCO</th>\n",
       "      <th>nCO</th>\n",
       "      <th>MeanIN</th>\n",
       "      <th>nIN</th>\n",
       "    </tr>\n",
       "  </thead>\n",
       "  <tbody>\n",
       "    <tr>\n",
       "      <th>69</th>\n",
       "      <td>🇮🇹</td>\n",
       "      <td>Lara Naki Gutmann</td>\n",
       "      <td>0</td>\n",
       "      <td>2</td>\n",
       "      <td>1</td>\n",
       "      <td>1</td>\n",
       "      <td>0</td>\n",
       "      <td>163.54</td>\n",
       "      <td>4</td>\n",
       "      <td>78.58</td>\n",
       "      <td>...</td>\n",
       "      <td>6.86</td>\n",
       "      <td>8</td>\n",
       "      <td>6.7</td>\n",
       "      <td>8</td>\n",
       "      <td>6.76</td>\n",
       "      <td>8</td>\n",
       "      <td>6.98</td>\n",
       "      <td>8</td>\n",
       "      <td>6.86</td>\n",
       "      <td>8</td>\n",
       "    </tr>\n",
       "    <tr>\n",
       "      <th>99</th>\n",
       "      <td>🇮🇹</td>\n",
       "      <td>Lucrezia Beccari</td>\n",
       "      <td>0</td>\n",
       "      <td>0</td>\n",
       "      <td>1</td>\n",
       "      <td>0</td>\n",
       "      <td>0</td>\n",
       "      <td>148.29</td>\n",
       "      <td>1</td>\n",
       "      <td>74.46</td>\n",
       "      <td>...</td>\n",
       "      <td>6.80</td>\n",
       "      <td>2</td>\n",
       "      <td>6.7</td>\n",
       "      <td>2</td>\n",
       "      <td>6.60</td>\n",
       "      <td>2</td>\n",
       "      <td>6.86</td>\n",
       "      <td>2</td>\n",
       "      <td>6.82</td>\n",
       "      <td>2</td>\n",
       "    </tr>\n",
       "  </tbody>\n",
       "</table>\n",
       "<p>2 rows × 33 columns</p>\n",
       "</div>"
      ],
      "text/plain": [
       "   Nat             Skater  JGP  CS  GP  Ch  WD  MeanEventTotal  nmean  \\\n",
       "69  🇮🇹  Lara Naki Gutmann    0   2   1   1   0          163.54      4   \n",
       "99  🇮🇹   Lucrezia Beccari    0   0   1   0   0          148.29      1   \n",
       "\n",
       "    MeanEventBV  ...  MeanSS  nSS  MeanTR  NTR  MeanPE  nPE  MeanCO  nCO  \\\n",
       "69        78.58  ...    6.86    8     6.7    8    6.76    8    6.98    8   \n",
       "99        74.46  ...    6.80    2     6.7    2    6.60    2    6.86    2   \n",
       "\n",
       "    MeanIN  nIN  \n",
       "69    6.86    8  \n",
       "99    6.82    2  \n",
       "\n",
       "[2 rows x 33 columns]"
      ]
     },
     "execution_count": 46,
     "metadata": {},
     "output_type": "execute_result"
    }
   ],
   "source": [
    "women_df = df_women_update[df_women_update.apply(lambda x: x[\"Nat\"] == '🇮🇹',axis=1)]\n",
    "Italy_Women = women_df.nlargest(2,'MeanEventTotal') \n",
    "Italy_Women_df = pd.DataFrame(Italy_Women)\n",
    "Italy_Women_df"
   ]
  },
  {
   "cell_type": "markdown",
   "id": "2d0f4dae",
   "metadata": {},
   "source": [
    "Setting the index value of dataframe 'Italy_Women_df', then fetching the 'MeanEventTotal' score and storing it in 'Italy_Women_Final'"
   ]
  },
  {
   "cell_type": "code",
   "execution_count": 47,
   "id": "884a9228",
   "metadata": {},
   "outputs": [
    {
     "data": {
      "text/plain": [
       "Skater\n",
       "Lara Naki Gutmann    163.54\n",
       "Lucrezia Beccari     148.29\n",
       "Name: MeanEventTotal, dtype: float64"
      ]
     },
     "execution_count": 47,
     "metadata": {},
     "output_type": "execute_result"
    }
   ],
   "source": [
    "Italy_Women_df.set_index('Skater',inplace=True)\n",
    "Italy_Women_final=Italy_Women_df['MeanEventTotal']\n",
    "Italy_Women_final"
   ]
  },
  {
   "cell_type": "markdown",
   "id": "1a0a8e82",
   "metadata": {},
   "source": [
    "Calculating probability distribution for the the two Italy women skaters and storing the values in 'Italy_Women_Dist' variable"
   ]
  },
  {
   "cell_type": "code",
   "execution_count": 48,
   "id": "8fd2e825",
   "metadata": {},
   "outputs": [
    {
     "data": {
      "text/plain": [
       "{'LNG': 0.5244524260013469, 'LB': 0.4755475739986531}"
      ]
     },
     "execution_count": 48,
     "metadata": {},
     "output_type": "execute_result"
    }
   ],
   "source": [
    "Italy_Women_Dist = ProbDist(LNG = Italy_Women_final[0], LB = Italy_Women_final[1])\n",
    "Italy_Women_Dist"
   ]
  },
  {
   "cell_type": "markdown",
   "id": "3cb807f6",
   "metadata": {},
   "source": [
    "Final scores of the top two Italy women’s skaters from the event are added and stored in 'ITALY_WOMEN_TOTAL'"
   ]
  },
  {
   "cell_type": "code",
   "execution_count": 49,
   "id": "688a0881",
   "metadata": {},
   "outputs": [
    {
     "data": {
      "text/plain": [
       "311.83"
      ]
     },
     "execution_count": 49,
     "metadata": {},
     "output_type": "execute_result"
    }
   ],
   "source": [
    "ITALY_WOMEN_TOTAL = Italy_Women_final[0]+Italy_Women_final[1]\n",
    "ITALY_WOMEN_TOTAL"
   ]
  },
  {
   "cell_type": "markdown",
   "id": "b7c67c5b",
   "metadata": {},
   "source": [
    "Fetching the top two ranked Canada women's skaters and storing it into a dataframe 'Canada_Women_df'"
   ]
  },
  {
   "cell_type": "code",
   "execution_count": 50,
   "id": "e64ba15f",
   "metadata": {},
   "outputs": [
    {
     "data": {
      "text/html": [
       "<div>\n",
       "<style scoped>\n",
       "    .dataframe tbody tr th:only-of-type {\n",
       "        vertical-align: middle;\n",
       "    }\n",
       "\n",
       "    .dataframe tbody tr th {\n",
       "        vertical-align: top;\n",
       "    }\n",
       "\n",
       "    .dataframe thead th {\n",
       "        text-align: right;\n",
       "    }\n",
       "</style>\n",
       "<table border=\"1\" class=\"dataframe\">\n",
       "  <thead>\n",
       "    <tr style=\"text-align: right;\">\n",
       "      <th></th>\n",
       "      <th>Nat</th>\n",
       "      <th>Skater</th>\n",
       "      <th>JGP</th>\n",
       "      <th>CS</th>\n",
       "      <th>GP</th>\n",
       "      <th>Ch</th>\n",
       "      <th>WD</th>\n",
       "      <th>MeanEventTotal</th>\n",
       "      <th>nmean</th>\n",
       "      <th>MeanEventBV</th>\n",
       "      <th>...</th>\n",
       "      <th>MeanSS</th>\n",
       "      <th>nSS</th>\n",
       "      <th>MeanTR</th>\n",
       "      <th>NTR</th>\n",
       "      <th>MeanPE</th>\n",
       "      <th>nPE</th>\n",
       "      <th>MeanCO</th>\n",
       "      <th>nCO</th>\n",
       "      <th>MeanIN</th>\n",
       "      <th>nIN</th>\n",
       "    </tr>\n",
       "  </thead>\n",
       "  <tbody>\n",
       "    <tr>\n",
       "      <th>36</th>\n",
       "      <td>🇨🇦</td>\n",
       "      <td>Madeline Schizas</td>\n",
       "      <td>0</td>\n",
       "      <td>1</td>\n",
       "      <td>2</td>\n",
       "      <td>0</td>\n",
       "      <td>0</td>\n",
       "      <td>187.81</td>\n",
       "      <td>3</td>\n",
       "      <td>88.31</td>\n",
       "      <td>...</td>\n",
       "      <td>7.47</td>\n",
       "      <td>6</td>\n",
       "      <td>7.27</td>\n",
       "      <td>6</td>\n",
       "      <td>7.54</td>\n",
       "      <td>6</td>\n",
       "      <td>7.56</td>\n",
       "      <td>6</td>\n",
       "      <td>7.53</td>\n",
       "      <td>6</td>\n",
       "    </tr>\n",
       "    <tr>\n",
       "      <th>45</th>\n",
       "      <td>🇨🇦</td>\n",
       "      <td>Kaiya Ruiter</td>\n",
       "      <td>2</td>\n",
       "      <td>0</td>\n",
       "      <td>0</td>\n",
       "      <td>0</td>\n",
       "      <td>0</td>\n",
       "      <td>178.76</td>\n",
       "      <td>2</td>\n",
       "      <td>89.95</td>\n",
       "      <td>...</td>\n",
       "      <td>6.90</td>\n",
       "      <td>4</td>\n",
       "      <td>6.68</td>\n",
       "      <td>4</td>\n",
       "      <td>6.99</td>\n",
       "      <td>4</td>\n",
       "      <td>6.99</td>\n",
       "      <td>4</td>\n",
       "      <td>7.04</td>\n",
       "      <td>4</td>\n",
       "    </tr>\n",
       "  </tbody>\n",
       "</table>\n",
       "<p>2 rows × 33 columns</p>\n",
       "</div>"
      ],
      "text/plain": [
       "   Nat            Skater  JGP  CS  GP  Ch  WD  MeanEventTotal  nmean  \\\n",
       "36  🇨🇦  Madeline Schizas    0   1   2   0   0          187.81      3   \n",
       "45  🇨🇦      Kaiya Ruiter    2   0   0   0   0          178.76      2   \n",
       "\n",
       "    MeanEventBV  ...  MeanSS  nSS  MeanTR  NTR  MeanPE  nPE  MeanCO  nCO  \\\n",
       "36        88.31  ...    7.47    6    7.27    6    7.54    6    7.56    6   \n",
       "45        89.95  ...    6.90    4    6.68    4    6.99    4    6.99    4   \n",
       "\n",
       "    MeanIN  nIN  \n",
       "36    7.53    6  \n",
       "45    7.04    4  \n",
       "\n",
       "[2 rows x 33 columns]"
      ]
     },
     "execution_count": 50,
     "metadata": {},
     "output_type": "execute_result"
    }
   ],
   "source": [
    "women_df = df_women_update[df_women_update.apply(lambda x: x[\"Nat\"] == '🇨🇦',axis=1)]\n",
    "Canada_Women = women_df.nlargest(2,'MeanEventTotal') \n",
    "Canada_Women_df = pd.DataFrame(Canada_Women)\n",
    "Canada_Women_df"
   ]
  },
  {
   "cell_type": "markdown",
   "id": "efd29b78",
   "metadata": {},
   "source": [
    "Setting the index value of dataframe 'Canada_Women_df', then fetching the 'MeanEventTotal' score and storing it in 'Canada_Women_Final'"
   ]
  },
  {
   "cell_type": "code",
   "execution_count": 51,
   "id": "93d2f331",
   "metadata": {},
   "outputs": [
    {
     "data": {
      "text/plain": [
       "Skater\n",
       "Madeline Schizas    187.81\n",
       "Kaiya Ruiter        178.76\n",
       "Name: MeanEventTotal, dtype: float64"
      ]
     },
     "execution_count": 51,
     "metadata": {},
     "output_type": "execute_result"
    }
   ],
   "source": [
    "Canada_Women_df.set_index('Skater',inplace=True)\n",
    "Canada_Women_final = Canada_Women_df['MeanEventTotal']\n",
    "Canada_Women_final "
   ]
  },
  {
   "cell_type": "markdown",
   "id": "78ea9099",
   "metadata": {},
   "source": [
    "Calculating probability distribution for the the two Canada women skaters and storing the values in 'Canada_Women_Dist' variable"
   ]
  },
  {
   "cell_type": "code",
   "execution_count": 52,
   "id": "00f1a72f",
   "metadata": {},
   "outputs": [
    {
     "data": {
      "text/plain": [
       "{'MS': 0.5123441634612762, 'KR': 0.48765583653872385}"
      ]
     },
     "execution_count": 52,
     "metadata": {},
     "output_type": "execute_result"
    }
   ],
   "source": [
    "Canada_Women_Dist = ProbDist(MS = Canada_Women_final[0], KR = Canada_Women_final[1])\n",
    "Canada_Women_Dist"
   ]
  },
  {
   "cell_type": "markdown",
   "id": "68c82cb7",
   "metadata": {},
   "source": [
    "Final scores of the top two Canada women’s skaters from the event are added and stored in 'CANADA_WOMEN_TOTAL'"
   ]
  },
  {
   "cell_type": "code",
   "execution_count": 53,
   "id": "46175127",
   "metadata": {},
   "outputs": [
    {
     "data": {
      "text/plain": [
       "366.57"
      ]
     },
     "execution_count": 53,
     "metadata": {},
     "output_type": "execute_result"
    }
   ],
   "source": [
    "CANADA_WOMEN_TOTAL = Canada_Women_final[0] + Canada_Women_final[1]\n",
    "CANADA_WOMEN_TOTAL"
   ]
  },
  {
   "cell_type": "markdown",
   "id": "8887a7d5",
   "metadata": {},
   "source": [
    "Fetching the top two ranked Russia women's skaters and storing it into a dataframe 'Russia_Women_df'"
   ]
  },
  {
   "cell_type": "code",
   "execution_count": 54,
   "id": "42397769",
   "metadata": {},
   "outputs": [
    {
     "data": {
      "text/html": [
       "<div>\n",
       "<style scoped>\n",
       "    .dataframe tbody tr th:only-of-type {\n",
       "        vertical-align: middle;\n",
       "    }\n",
       "\n",
       "    .dataframe tbody tr th {\n",
       "        vertical-align: top;\n",
       "    }\n",
       "\n",
       "    .dataframe thead th {\n",
       "        text-align: right;\n",
       "    }\n",
       "</style>\n",
       "<table border=\"1\" class=\"dataframe\">\n",
       "  <thead>\n",
       "    <tr style=\"text-align: right;\">\n",
       "      <th></th>\n",
       "      <th>Nat</th>\n",
       "      <th>Skater</th>\n",
       "      <th>JGP</th>\n",
       "      <th>CS</th>\n",
       "      <th>GP</th>\n",
       "      <th>Ch</th>\n",
       "      <th>WD</th>\n",
       "      <th>MeanEventTotal</th>\n",
       "      <th>nmean</th>\n",
       "      <th>MeanEventBV</th>\n",
       "      <th>...</th>\n",
       "      <th>MeanSS</th>\n",
       "      <th>nSS</th>\n",
       "      <th>MeanTR</th>\n",
       "      <th>NTR</th>\n",
       "      <th>MeanPE</th>\n",
       "      <th>nPE</th>\n",
       "      <th>MeanCO</th>\n",
       "      <th>nCO</th>\n",
       "      <th>MeanIN</th>\n",
       "      <th>nIN</th>\n",
       "    </tr>\n",
       "  </thead>\n",
       "  <tbody>\n",
       "    <tr>\n",
       "      <th>0</th>\n",
       "      <td>🇷🇺</td>\n",
       "      <td>Kamila Valieva</td>\n",
       "      <td>0</td>\n",
       "      <td>1</td>\n",
       "      <td>2</td>\n",
       "      <td>1</td>\n",
       "      <td>0</td>\n",
       "      <td>261.52</td>\n",
       "      <td>4</td>\n",
       "      <td>119.54</td>\n",
       "      <td>...</td>\n",
       "      <td>9.28</td>\n",
       "      <td>8</td>\n",
       "      <td>9.09</td>\n",
       "      <td>8</td>\n",
       "      <td>9.32</td>\n",
       "      <td>8</td>\n",
       "      <td>9.34</td>\n",
       "      <td>8</td>\n",
       "      <td>9.36</td>\n",
       "      <td>8</td>\n",
       "    </tr>\n",
       "    <tr>\n",
       "      <th>1</th>\n",
       "      <td>🇷🇺</td>\n",
       "      <td>Anna Shcherbakova</td>\n",
       "      <td>0</td>\n",
       "      <td>0</td>\n",
       "      <td>2</td>\n",
       "      <td>1</td>\n",
       "      <td>0</td>\n",
       "      <td>234.63</td>\n",
       "      <td>3</td>\n",
       "      <td>102.99</td>\n",
       "      <td>...</td>\n",
       "      <td>8.98</td>\n",
       "      <td>6</td>\n",
       "      <td>8.89</td>\n",
       "      <td>6</td>\n",
       "      <td>9.06</td>\n",
       "      <td>6</td>\n",
       "      <td>9.13</td>\n",
       "      <td>6</td>\n",
       "      <td>9.14</td>\n",
       "      <td>6</td>\n",
       "    </tr>\n",
       "  </tbody>\n",
       "</table>\n",
       "<p>2 rows × 33 columns</p>\n",
       "</div>"
      ],
      "text/plain": [
       "  Nat             Skater  JGP  CS  GP  Ch  WD  MeanEventTotal  nmean  \\\n",
       "0  🇷🇺     Kamila Valieva    0   1   2   1   0          261.52      4   \n",
       "1  🇷🇺  Anna Shcherbakova    0   0   2   1   0          234.63      3   \n",
       "\n",
       "   MeanEventBV  ...  MeanSS  nSS  MeanTR  NTR  MeanPE  nPE  MeanCO  nCO  \\\n",
       "0       119.54  ...    9.28    8    9.09    8    9.32    8    9.34    8   \n",
       "1       102.99  ...    8.98    6    8.89    6    9.06    6    9.13    6   \n",
       "\n",
       "   MeanIN  nIN  \n",
       "0    9.36    8  \n",
       "1    9.14    6  \n",
       "\n",
       "[2 rows x 33 columns]"
      ]
     },
     "execution_count": 54,
     "metadata": {},
     "output_type": "execute_result"
    }
   ],
   "source": [
    "women_df = df_women_update[df_women_update.apply(lambda x: x[\"Nat\"] == '🇷🇺',axis=1)]\n",
    "Russia_Women = women_df.nlargest(2,'MeanEventTotal') \n",
    "Russia_Women_df = pd.DataFrame(Russia_Women)\n",
    "Russia_Women_df"
   ]
  },
  {
   "cell_type": "markdown",
   "id": "ab19f58e",
   "metadata": {},
   "source": [
    "Setting the index value of dataframe 'Russia_Women_df', then fetching the 'MeanEventTotal' score and storing it in 'Russia_Women_Final'"
   ]
  },
  {
   "cell_type": "code",
   "execution_count": 55,
   "id": "0176a5d2",
   "metadata": {},
   "outputs": [
    {
     "data": {
      "text/plain": [
       "Skater\n",
       "Kamila Valieva       261.52\n",
       "Anna Shcherbakova    234.63\n",
       "Name: MeanEventTotal, dtype: float64"
      ]
     },
     "execution_count": 55,
     "metadata": {},
     "output_type": "execute_result"
    }
   ],
   "source": [
    "Russia_Women_df.set_index('Skater',inplace=True)\n",
    "Russia_Women_final = Russia_Women_df['MeanEventTotal']\n",
    "Russia_Women_final"
   ]
  },
  {
   "cell_type": "markdown",
   "id": "2c7cbe2c",
   "metadata": {},
   "source": [
    "Calculating probability distribution for the the two Russia women skaters and storing the values in 'Russia_Women_Dist' variable"
   ]
  },
  {
   "cell_type": "code",
   "execution_count": 56,
   "id": "c91368d8",
   "metadata": {},
   "outputs": [
    {
     "data": {
      "text/plain": [
       "{'KV': 0.5270986596795324, 'AS': 0.4729013403204676}"
      ]
     },
     "execution_count": 56,
     "metadata": {},
     "output_type": "execute_result"
    }
   ],
   "source": [
    "Russia_Women_Dist = ProbDist(KV = Russia_Women_final[0], AS = Russia_Women_final[1])\n",
    "Russia_Women_Dist"
   ]
  },
  {
   "cell_type": "markdown",
   "id": "d0894c87",
   "metadata": {},
   "source": [
    "Final scores of the top two Russia women’s skaters from the event are added and stored in 'RUSSIA_WOMEN_TOTAL'"
   ]
  },
  {
   "cell_type": "code",
   "execution_count": 57,
   "id": "4945cf01",
   "metadata": {},
   "outputs": [
    {
     "data": {
      "text/plain": [
       "496.15"
      ]
     },
     "execution_count": 57,
     "metadata": {},
     "output_type": "execute_result"
    }
   ],
   "source": [
    "RUSSIA_WOMEN_TOTAL = Russia_Women_final[0]+Russia_Women_final[1]\n",
    "RUSSIA_WOMEN_TOTAL"
   ]
  },
  {
   "cell_type": "markdown",
   "id": "ce77483f",
   "metadata": {},
   "source": [
    "The probability distribution of women's skaters from teams US,Japan,China,Italy,Canada and Russia are calculated and stored in 'WOMEN_PROB'. \n",
    "\n",
    "Russia women's team have the most chances(21.09%) of winning the event, followed by Japan women's team(18.45%), US women's team(17.61%), Canada women's team(15.58%), China women's team(13.99%). Italy women's team have the least chances(13.25%) of winning the event."
   ]
  },
  {
   "cell_type": "code",
   "execution_count": 58,
   "id": "90af0a2e",
   "metadata": {
    "scrolled": true
   },
   "outputs": [
    {
     "data": {
      "text/plain": [
       "{'USW': 0.1761714647720847,\n",
       " 'JAPANW': 0.18451340790911452,\n",
       " 'CHINAW': 0.13992525414864987,\n",
       " 'ITALYW': 0.13258247341590243,\n",
       " 'CANADAW': 0.15585657980331383,\n",
       " 'RUSSIAW': 0.21095081995093476}"
      ]
     },
     "execution_count": 58,
     "metadata": {},
     "output_type": "execute_result"
    }
   ],
   "source": [
    "WOMEN_PROB=ProbDist(USW=US_WOMEN_TOTAL,JAPANW=JAPAN_WOMEN_TOTAL, CHINAW=CHINA_WOMEN_TOTAL,ITALYW=ITALY_WOMEN_TOTAL,CANADAW=CANADA_WOMEN_TOTAL,RUSSIAW=RUSSIA_WOMEN_TOTAL)\n",
    "WOMEN_PROB"
   ]
  },
  {
   "cell_type": "markdown",
   "id": "18c6037a",
   "metadata": {},
   "source": []
  },
  {
   "cell_type": "code",
   "execution_count": 59,
   "id": "f877228d",
   "metadata": {},
   "outputs": [
    {
     "data": {
      "text/plain": [
       "{'USM USW': 0.032674225644327794,\n",
       " 'USM JAPANW': 0.03422139182543486,\n",
       " 'USM CHINAW': 0.025951701845175038,\n",
       " 'USM ITALYW': 0.024589848636830544,\n",
       " 'USM CANADAW': 0.028906458053436078,\n",
       " 'USM RUSSIAW': 0.039124694228148266,\n",
       " 'JAPANM USW': 0.03234083864000526,\n",
       " 'JAPANM JAPANW': 0.03387221852202989,\n",
       " 'JAPANM CHINAW': 0.025686907195428335,\n",
       " 'JAPANM ITALYW': 0.024338949470526946,\n",
       " 'JAPANM CANADAW': 0.028611514951772,\n",
       " 'JAPANM RUSSIAW': 0.03872549074752893,\n",
       " 'CHINAM USW': 0.025477089987220123,\n",
       " 'CHINAM JAPANW': 0.0266834626324458,\n",
       " 'CHINAM CHINAW': 0.02023533320814322,\n",
       " 'CHINAM ITALYW': 0.019173454738059252,\n",
       " 'CHINAM CANADAW': 0.022539246715615496,\n",
       " 'CHINAM RUSSIAW': 0.030506717019812387,\n",
       " 'ITALYM USW': 0.028710369123968838,\n",
       " 'ITALYM JAPANW': 0.030069841652537125,\n",
       " 'ITALYM CHINAW': 0.022803384768186667,\n",
       " 'ITALYM ITALYW': 0.021606744066434664,\n",
       " 'ITALYM CANADAW': 0.02539968627916799,\n",
       " 'ITALYM RUSSIAW': 0.034378302499956895,\n",
       " 'CANADAM USW': 0.027225072539193963,\n",
       " 'CANADAM JAPANW': 0.028514214383574283,\n",
       " 'CANADAM CHINAW': 0.02162367894931515,\n",
       " 'CANADAM ITALYW': 0.020488945022075187,\n",
       " 'CANADAM CANADAW': 0.024085663908995608,\n",
       " 'CANADAM RUSSIAW': 0.0325997821656114,\n",
       " 'RUSSIAM USW': 0.029743868837368695,\n",
       " 'RUSSIAM JAPANW': 0.03115227889309254,\n",
       " 'RUSSIAM CHINAW': 0.023624248182401438,\n",
       " 'RUSSIAM ITALYW': 0.02238453148197582,\n",
       " 'RUSSIAM CANADAW': 0.026314009894326633,\n",
       " 'RUSSIAM RUSSIAW': 0.03561583328987686}"
      ]
     },
     "execution_count": 59,
     "metadata": {},
     "output_type": "execute_result"
    }
   ],
   "source": [
    "def joint(A, B, sep=''):\n",
    "    \"\"\"The joint distribution of two independent probability distributions. \n",
    "    Result is all entries of the form {a+sep+b: P(a)*P(b)}\"\"\"\n",
    "    return ProbDist({a + sep + b: A[a] * B[b]   #a+b as concatenation of keys and probability as product of probability\n",
    "                    for a in A\n",
    "                    for b in B})\n",
    "MM = joint(MEN_PROB, WOMEN_PROB, ' ')\n",
    "MM"
   ]
  },
  {
   "cell_type": "markdown",
   "id": "09e641c8",
   "metadata": {},
   "source": [
    "__1) What is the probability for the US to win both the men's and the women's event?__"
   ]
  },
  {
   "cell_type": "code",
   "execution_count": 60,
   "id": "d84ea1ca",
   "metadata": {},
   "outputs": [
    {
     "data": {
      "text/plain": [
       "0.0326742256443278"
      ]
     },
     "execution_count": 60,
     "metadata": {},
     "output_type": "execute_result"
    }
   ],
   "source": [
    "USmen = MEN_PROB['USM']\n",
    "USwomen = WOMEN_PROB['USW']\n",
    "US_win_both = USmen*USwomen\n",
    "US_win_both"
   ]
  },
  {
   "cell_type": "markdown",
   "id": "776859d9",
   "metadata": {},
   "source": [
    "The probability of US to win both the events is 3.26%"
   ]
  },
  {
   "cell_type": "markdown",
   "id": "5bd5b464",
   "metadata": {},
   "source": [
    "__1 b) What is the probability for the US to win at least one of these two events?__"
   ]
  },
  {
   "cell_type": "code",
   "execution_count": 61,
   "id": "5fe75639",
   "metadata": {},
   "outputs": [
    {
     "data": {
      "text/plain": [
       "0.3289655593611095"
      ]
     },
     "execution_count": 61,
     "metadata": {},
     "output_type": "execute_result"
    }
   ],
   "source": [
    "US_win_atleastone = 1-(1-USmen) * (1-USwomen)\n",
    "US_win_atleastone"
   ]
  },
  {
   "cell_type": "markdown",
   "id": "6ae23b61",
   "metadata": {},
   "source": [
    "The probability of US to win atleast one of the two events is 32.89%"
   ]
  },
  {
   "cell_type": "markdown",
   "id": "c29ca856",
   "metadata": {},
   "source": [
    "__Probability for the China to win both the men's and the women's event?__"
   ]
  },
  {
   "cell_type": "code",
   "execution_count": 62,
   "id": "19fb2e52",
   "metadata": {},
   "outputs": [
    {
     "data": {
      "text/plain": [
       "0.020235333208143223"
      ]
     },
     "execution_count": 62,
     "metadata": {},
     "output_type": "execute_result"
    }
   ],
   "source": [
    "Chinamen = MEN_PROB['CHINAM']\n",
    "Chinawomen = WOMEN_PROB['CHINAW']\n",
    "China_win_both = Chinamen*Chinawomen\n",
    "China_win_both"
   ]
  },
  {
   "cell_type": "markdown",
   "id": "1eb8de96",
   "metadata": {},
   "source": [
    "__Probability for the China to win at least one of these two events__"
   ]
  },
  {
   "cell_type": "code",
   "execution_count": 63,
   "id": "065b5ff8",
   "metadata": {},
   "outputs": [
    {
     "data": {
      "text/plain": [
       "0.264305225241803"
      ]
     },
     "execution_count": 63,
     "metadata": {},
     "output_type": "execute_result"
    }
   ],
   "source": [
    "China_win_atleastone = 1-(1-Chinamen) * (1-Chinawomen)\n",
    "China_win_atleastone"
   ]
  },
  {
   "cell_type": "markdown",
   "id": "6ca5fc5b",
   "metadata": {},
   "source": [
    "__Probability for the Japan to win both the men's and the women's event?__"
   ]
  },
  {
   "cell_type": "code",
   "execution_count": 64,
   "id": "d2b8dc91",
   "metadata": {},
   "outputs": [
    {
     "data": {
      "text/plain": [
       "0.033872218522029894"
      ]
     },
     "execution_count": 64,
     "metadata": {},
     "output_type": "execute_result"
    }
   ],
   "source": [
    "Japanmen = MEN_PROB['JAPANM']\n",
    "Japanwomen = WOMEN_PROB['JAPANW']\n",
    "Japan_win_both = Japanmen*Japanwomen\n",
    "Japan_win_both"
   ]
  },
  {
   "cell_type": "markdown",
   "id": "eb59ce09",
   "metadata": {},
   "source": [
    "__Probability for Japan to win at least one of these two events__"
   ]
  },
  {
   "cell_type": "code",
   "execution_count": 65,
   "id": "c16d4140",
   "metadata": {},
   "outputs": [
    {
     "data": {
      "text/plain": [
       "0.33421710891437595"
      ]
     },
     "execution_count": 65,
     "metadata": {},
     "output_type": "execute_result"
    }
   ],
   "source": [
    "Japan_win_atleastone= 1-(1-Japanmen) * (1-Japanwomen)\n",
    "Japan_win_atleastone"
   ]
  },
  {
   "cell_type": "markdown",
   "id": "74f85edb",
   "metadata": {},
   "source": [
    "__Probability for Italy to win both the men's and the women's event?__"
   ]
  },
  {
   "cell_type": "code",
   "execution_count": 66,
   "id": "e3ea3586",
   "metadata": {},
   "outputs": [
    {
     "data": {
      "text/plain": [
       "0.021606744066434667"
      ]
     },
     "execution_count": 66,
     "metadata": {},
     "output_type": "execute_result"
    }
   ],
   "source": [
    "Italymen = MEN_PROB['ITALYM']\n",
    "Italywomen = WOMEN_PROB['ITALYW']\n",
    "Italy_win_both = Italymen*Italywomen\n",
    "Italy_win_both"
   ]
  },
  {
   "cell_type": "markdown",
   "id": "4b30cf8e",
   "metadata": {},
   "source": [
    "__Probability for Italy to win at least one of these two events__"
   ]
  },
  {
   "cell_type": "code",
   "execution_count": 67,
   "id": "d9a7a5e8",
   "metadata": {},
   "outputs": [
    {
     "data": {
      "text/plain": [
       "0.27394405773971997"
      ]
     },
     "execution_count": 67,
     "metadata": {},
     "output_type": "execute_result"
    }
   ],
   "source": [
    "Italy_win_atleastone = 1-(1-Italymen) * (1-Italywomen)\n",
    "Italy_win_atleastone"
   ]
  },
  {
   "cell_type": "markdown",
   "id": "76d55c20",
   "metadata": {},
   "source": [
    "__Probability for Russia to win both the men's and the women's event?__"
   ]
  },
  {
   "cell_type": "code",
   "execution_count": 68,
   "id": "110be668",
   "metadata": {},
   "outputs": [
    {
     "data": {
      "text/plain": [
       "0.035615833289876865"
      ]
     },
     "execution_count": 68,
     "metadata": {},
     "output_type": "execute_result"
    }
   ],
   "source": [
    "Russiamen = MEN_PROB['RUSSIAM']\n",
    "Russiawomen = WOMEN_PROB['RUSSIAW']\n",
    "Russia_win_both = Russiamen*Russiawomen\n",
    "Russia_win_both"
   ]
  },
  {
   "cell_type": "markdown",
   "id": "e32d7c13",
   "metadata": {},
   "source": [
    "__Probability for Russia to win at least one of these two events__"
   ]
  },
  {
   "cell_type": "code",
   "execution_count": 69,
   "id": "8c4d7c41",
   "metadata": {},
   "outputs": [
    {
     "data": {
      "text/plain": [
       "0.3441697572401"
      ]
     },
     "execution_count": 69,
     "metadata": {},
     "output_type": "execute_result"
    }
   ],
   "source": [
    "Russia_win_atleastone = 1-(1-Russiamen) * (1-Russiawomen)\n",
    "Russia_win_atleastone"
   ]
  },
  {
   "cell_type": "markdown",
   "id": "8629cae8",
   "metadata": {},
   "source": [
    "__Probability for Canada to win both the men's and the women's event?__"
   ]
  },
  {
   "cell_type": "code",
   "execution_count": 70,
   "id": "c93e62b9",
   "metadata": {},
   "outputs": [
    {
     "data": {
      "text/plain": [
       "0.024085663908995615"
      ]
     },
     "execution_count": 70,
     "metadata": {},
     "output_type": "execute_result"
    }
   ],
   "source": [
    "Canadamen = MEN_PROB['CANADAM']\n",
    "Canadawomen = WOMEN_PROB['CANADAW']\n",
    "Canada_win_both = Canadamen*Canadawomen\n",
    "Canada_win_both"
   ]
  },
  {
   "cell_type": "markdown",
   "id": "a3a8aaef",
   "metadata": {},
   "source": [
    "__Probability for Canada to win at least one of these two events__"
   ]
  },
  {
   "cell_type": "code",
   "execution_count": 71,
   "id": "d35eff7b",
   "metadata": {},
   "outputs": [
    {
     "data": {
      "text/plain": [
       "0.2863082728630838"
      ]
     },
     "execution_count": 71,
     "metadata": {},
     "output_type": "execute_result"
    }
   ],
   "source": [
    "Canada_win_atleastone = 1-(1-Canadamen) * (1-Canadawomen)\n",
    "Canada_win_atleastone"
   ]
  },
  {
   "cell_type": "markdown",
   "id": "debacd19",
   "metadata": {},
   "source": [
    "### Question 2 (30 points) If the US wins the men's event, what is the probability that the US wins the women's event? If the US wins at least one of these two events, what is the probability the US wins both events (not necessarily the first one)? How about Canada, China, and the ROC? Which nations are more likely to win both events if they win one of them? "
   ]
  },
  {
   "cell_type": "markdown",
   "id": "4688ce6a",
   "metadata": {},
   "source": [
    "__If the US wins the men's event, what is the probability that the US wins the women's event?__  "
   ]
  },
  {
   "cell_type": "code",
   "execution_count": 72,
   "id": "ec989d9e",
   "metadata": {},
   "outputs": [
    {
     "data": {
      "text/plain": [
       "0.1761714647720847"
      ]
     },
     "execution_count": 72,
     "metadata": {},
     "output_type": "execute_result"
    }
   ],
   "source": [
    "US_women_winning = US_win_both/USmen\n",
    "US_women_winning"
   ]
  },
  {
   "cell_type": "markdown",
   "id": "e15c837e",
   "metadata": {},
   "source": [
    "__If the US wins at least one of these two events, what is the probability the US wins both events (not necessarily the first one)?__"
   ]
  },
  {
   "cell_type": "code",
   "execution_count": 73,
   "id": "711f4922",
   "metadata": {},
   "outputs": [
    {
     "data": {
      "text/plain": [
       "0.09932415328761181"
      ]
     },
     "execution_count": 73,
     "metadata": {},
     "output_type": "execute_result"
    }
   ],
   "source": [
    "USwin_not_neccessarily_first = US_win_both/US_win_atleastone\n",
    "USwin_not_neccessarily_first"
   ]
  },
  {
   "cell_type": "markdown",
   "id": "8f75e630",
   "metadata": {},
   "source": [
    "__How about Canada, China, and the ROC? Which nations are more likely to win both events if they win one of them?__"
   ]
  },
  {
   "cell_type": "markdown",
   "id": "68f2092a",
   "metadata": {},
   "source": [
    "__If China wins the men's event, what is the probability that the China wins the women's event?__"
   ]
  },
  {
   "cell_type": "code",
   "execution_count": 74,
   "id": "5b94a658",
   "metadata": {},
   "outputs": [
    {
     "data": {
      "text/plain": [
       "0.13992525414864987"
      ]
     },
     "execution_count": 74,
     "metadata": {},
     "output_type": "execute_result"
    }
   ],
   "source": [
    "China_women_winning = China_win_both/Chinamen\n",
    "China_women_winning"
   ]
  },
  {
   "cell_type": "markdown",
   "id": "73438209",
   "metadata": {},
   "source": [
    "__If the China wins at least one of these two events, what is the probability the China wins both events (not necessarily the first one)?__"
   ]
  },
  {
   "cell_type": "code",
   "execution_count": 75,
   "id": "1c00076e",
   "metadata": {},
   "outputs": [
    {
     "data": {
      "text/plain": [
       "0.07656047355715602"
      ]
     },
     "execution_count": 75,
     "metadata": {},
     "output_type": "execute_result"
    }
   ],
   "source": [
    "Chinawin_not_neccessarily_first = China_win_both/China_win_atleastone\n",
    "Chinawin_not_neccessarily_first"
   ]
  },
  {
   "cell_type": "markdown",
   "id": "73fd11cf",
   "metadata": {},
   "source": [
    "__If Japan wins the men's event, what is the probability that the Japan wins the women's event?__"
   ]
  },
  {
   "cell_type": "code",
   "execution_count": 76,
   "id": "be28fbff",
   "metadata": {},
   "outputs": [
    {
     "data": {
      "text/plain": [
       "0.1845134079091145"
      ]
     },
     "execution_count": 76,
     "metadata": {},
     "output_type": "execute_result"
    }
   ],
   "source": [
    "Japan_women_winning = Japan_win_both/Japanmen\n",
    "Japan_women_winning"
   ]
  },
  {
   "cell_type": "markdown",
   "id": "2481a561",
   "metadata": {},
   "source": [
    "__If the Japan wins at least one of these two events, what is the probability the Japan wins both events (not necessarily the first one)?__"
   ]
  },
  {
   "cell_type": "code",
   "execution_count": 77,
   "id": "7a39acfc",
   "metadata": {},
   "outputs": [
    {
     "data": {
      "text/plain": [
       "0.1013479490384429"
      ]
     },
     "execution_count": 77,
     "metadata": {},
     "output_type": "execute_result"
    }
   ],
   "source": [
    "Japanwin_not_neccessarily_first = Japan_win_both/Japan_win_atleastone\n",
    "Japanwin_not_neccessarily_first"
   ]
  },
  {
   "cell_type": "markdown",
   "id": "4ab8d1ee",
   "metadata": {},
   "source": [
    "__If Russia wins the men's event, what is the probability that the Russia wins the women's event?__"
   ]
  },
  {
   "cell_type": "code",
   "execution_count": 78,
   "id": "54a2767d",
   "metadata": {},
   "outputs": [
    {
     "data": {
      "text/plain": [
       "0.21095081995093476"
      ]
     },
     "execution_count": 78,
     "metadata": {},
     "output_type": "execute_result"
    }
   ],
   "source": [
    "Russia_women_winning = Russia_win_both/Russiamen\n",
    "Russia_women_winning"
   ]
  },
  {
   "cell_type": "markdown",
   "id": "7997651f",
   "metadata": {},
   "source": [
    "__If the Russia wins at least one of these two events, what is the probability the Russia wins both events (not necessarily the first one)?__"
   ]
  },
  {
   "cell_type": "code",
   "execution_count": 79,
   "id": "1e259b31",
   "metadata": {},
   "outputs": [
    {
     "data": {
      "text/plain": [
       "0.10348333210762187"
      ]
     },
     "execution_count": 79,
     "metadata": {},
     "output_type": "execute_result"
    }
   ],
   "source": [
    "Russiawin_not_neccessarily_first = Russia_win_both/Russia_win_atleastone\n",
    "Russiawin_not_neccessarily_first"
   ]
  },
  {
   "cell_type": "markdown",
   "id": "05537c80",
   "metadata": {},
   "source": [
    "__If Canada wins the men's event, what is the probability that the Canada wins the women's event?__"
   ]
  },
  {
   "cell_type": "code",
   "execution_count": 80,
   "id": "12410ac7",
   "metadata": {},
   "outputs": [
    {
     "data": {
      "text/plain": [
       "0.15585657980331383"
      ]
     },
     "execution_count": 80,
     "metadata": {},
     "output_type": "execute_result"
    }
   ],
   "source": [
    "Canada_women_winning = Canada_win_both/Canadamen\n",
    "Canada_women_winning"
   ]
  },
  {
   "cell_type": "markdown",
   "id": "6dde21d8",
   "metadata": {},
   "source": [
    "__If the Canada wins at least one of these two events, what is the probability the Canada wins both events (not necessarily the first one)?__"
   ]
  },
  {
   "cell_type": "code",
   "execution_count": 81,
   "id": "8e402000",
   "metadata": {},
   "outputs": [
    {
     "data": {
      "text/plain": [
       "0.08412493173228593"
      ]
     },
     "execution_count": 81,
     "metadata": {},
     "output_type": "execute_result"
    }
   ],
   "source": [
    "Canadawin_not_neccessarily_first = Canada_win_both/Canada_win_atleastone\n",
    "Canadawin_not_neccessarily_first"
   ]
  },
  {
   "cell_type": "markdown",
   "id": "6110e7e7",
   "metadata": {},
   "source": [
    "__If Italy wins the men's event, what is the probability that the Italy wins the women's event?__"
   ]
  },
  {
   "cell_type": "code",
   "execution_count": 82,
   "id": "006249b7",
   "metadata": {},
   "outputs": [
    {
     "data": {
      "text/plain": [
       "0.13258247341590243"
      ]
     },
     "execution_count": 82,
     "metadata": {},
     "output_type": "execute_result"
    }
   ],
   "source": [
    "Italy_women_winning = Italy_win_both/Italymen\n",
    "Italy_women_winning"
   ]
  },
  {
   "cell_type": "markdown",
   "id": "ea5b11bd",
   "metadata": {},
   "source": [
    "__If the Italy wins at least one of these two events, what is the probability the Italy wins both events (not necessarily the first one)?__"
   ]
  },
  {
   "cell_type": "code",
   "execution_count": 85,
   "id": "82120740",
   "metadata": {},
   "outputs": [
    {
     "data": {
      "text/plain": [
       "0.07887283354386058"
      ]
     },
     "execution_count": 85,
     "metadata": {},
     "output_type": "execute_result"
    }
   ],
   "source": [
    "Italywin_not_neccessarily_first = Italy_win_both/Italy_win_atleastone\n",
    "Italywin_not_neccessarily_first"
   ]
  },
  {
   "cell_type": "markdown",
   "id": "475c0516",
   "metadata": {},
   "source": [
    "### Question 3 (50 points) The US wins at least one of these two events the same day that the US team of the same sex wins the hockey event gold medal. What is the probability the US wins both events assuming that the teams in contention to win the gold medal for the hockey event for both men and women are USA, China, Russia, Canada, and Japan and that men and women teams have the same probability to win hockey gold?"
   ]
  },
  {
   "cell_type": "markdown",
   "id": "17cb5ef7",
   "metadata": {},
   "source": [
    "Lets Assume that the probability of US men hockey team winning gold medal the same day as skating as 1/5. Same goes\n",
    "for women team with 1/5 since there are 5 teams given.\n",
    "\n",
    "According to Bayes theorm\n",
    "P(A|B)= P(B|A) * P(A) / P(B)\n",
    "\n",
    "A: US winning both the events\n",
    "\n",
    "B: US team of same sex wins hockey and atleast one in skating"
   ]
  },
  {
   "cell_type": "code",
   "execution_count": 104,
   "id": "763f61d8",
   "metadata": {},
   "outputs": [
    {
     "name": "stdout",
     "output_type": "stream",
     "text": [
      "Probability of A:  0.0326742256443278\n"
     ]
    }
   ],
   "source": [
    "PA = US_win_both\n",
    "print(\"Probability of A: \",PA)"
   ]
  },
  {
   "cell_type": "code",
   "execution_count": 105,
   "id": "4c989b2c",
   "metadata": {},
   "outputs": [
    {
     "name": "stdout",
     "output_type": "stream",
     "text": [
      "Probability of P(B|A) : 0.35110934511744396\n"
     ]
    }
   ],
   "source": [
    "#P(B|A)\n",
    "PBPA = US_win_both * US_win_atleastone /(US_win_both * US_win_atleastone + USwin_not_neccessarily_first * 0.2) #0.2 is assumed value\n",
    "print(\"Probability of P(B|A) :\", PBPA)"
   ]
  },
  {
   "cell_type": "code",
   "execution_count": 106,
   "id": "0328e2f0",
   "metadata": {},
   "outputs": [
    {
     "name": "stdout",
     "output_type": "stream",
     "text": [
      "Probability of B:  0.05795434445221484\n"
     ]
    }
   ],
   "source": [
    "PB = US_women_winning * US_win_atleastone\n",
    "print(\"Probability of B: \",PB)"
   ]
  },
  {
   "cell_type": "code",
   "execution_count": 107,
   "id": "716ba5a2",
   "metadata": {},
   "outputs": [
    {
     "name": "stdout",
     "output_type": "stream",
     "text": [
      "Final answer : 0.19795282090816738\n"
     ]
    }
   ],
   "source": [
    "#Final answer\n",
    "Required_value = PBPA*PA/PB\n",
    "print(\"Final answer :\",Required_value)"
   ]
  }
 ],
 "metadata": {
  "kernelspec": {
   "display_name": "Python 3 (ipykernel)",
   "language": "python",
   "name": "python3"
  },
  "language_info": {
   "codemirror_mode": {
    "name": "ipython",
    "version": 3
   },
   "file_extension": ".py",
   "mimetype": "text/x-python",
   "name": "python",
   "nbconvert_exporter": "python",
   "pygments_lexer": "ipython3",
   "version": "3.9.7"
  }
 },
 "nbformat": 4,
 "nbformat_minor": 5
}
